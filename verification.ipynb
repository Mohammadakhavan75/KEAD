{
 "cells": [
  {
   "cell_type": "markdown",
   "metadata": {},
   "source": [
    "# plot imgs or feature maps"
   ]
  },
  {
   "cell_type": "code",
   "execution_count": null,
   "metadata": {},
   "outputs": [],
   "source": [
    "import matplotlib.pyplot as plt\n",
    "import cv2\n",
    "idx=0\n",
    "fig, (ax1, ax2, ax3) = plt.subplots(1, 3, figsize=(10, 5))  # Adjust figsize as needed\n",
    "\n",
    "# Display the first image\n",
    "ax1.imshow(cv2.resize(imgs[idx].permute(1,2,0).detach().cpu().numpy(), (128, 128)))\n",
    "ax1.set_title('Image 1')\n",
    "ax1.axis('off')  # Turn off axes for cleaner presentation (optional)\n",
    "\n",
    "# Display the second image\n",
    "ax2.imshow(cv2.resize(positive_imgs[idx].permute(1,2,0).detach().cpu().numpy(), (128, 128)))\n",
    "ax2.set_title('Image 2')\n",
    "ax2.axis('off')  # Turn off axes (optional)\n",
    "\n",
    "ax3.imshow(cv2.resize(negative_imgs[idx].permute(1,2,0).detach().cpu().numpy(), (128, 128)))\n",
    "ax3.set_title('Image 3')\n",
    "ax3.axis('off')  # Turn off axes (optional)\n",
    "\n",
    "# Adjust spacing between subplots (optional)\n",
    "plt.subplots_adjust(left=0.05, right=0.95, wspace=0.05)"
   ]
  },
  {
   "cell_type": "code",
   "execution_count": null,
   "metadata": {},
   "outputs": [],
   "source": [
    "import pandas as pd\n",
    "import os\n",
    "\n",
    "# Define a list to store the dataframes\n",
    "all_dfs = []\n",
    "\n",
    "# Loop through the CSV files and read them into dataframes\n",
    "for filename in os.listdir('./csv_results/report_class_1/'):  # Replace with your filenames\n",
    "  df = pd.read_csv(filename)\n",
    "  all_dfs.append(df)\n",
    "\n",
    "# Combine all dataframes vertically (stacking rows)\n",
    "combined_df = pd.concat(all_dfs, ignore_index=True)  # Optional: reset index\n",
    "\n",
    "# Save the combined dataframe to a new CSV file\n",
    "combined_df.to_csv(\"combined.csv\", index=False)  # Optional: remove index column\n"
   ]
  },
  {
   "cell_type": "code",
   "execution_count": null,
   "metadata": {},
   "outputs": [],
   "source": [
    "import pandas as pd\n",
    "import os\n",
    "all_dfs = []\n",
    "names= []\n",
    "root='./csv_results/report_class_1/'\n",
    "for filename in os.listdir(root):\n",
    "    print(filename)\n",
    "    df = pd.read_csv(root + filename)\n",
    "    df.insert(loc=0, column='noise', value=filename.split('.')[0])\n",
    "    all_dfs.append(df)\n",
    "    names.append(filename.split('.')[0])\n",
    "\n",
    "combined_df = pd.concat(all_dfs, ignore_index=True)\n",
    "combined_df.to_csv(root + \"combined.csv\", index=False)"
   ]
  },
  {
   "cell_type": "code",
   "execution_count": null,
   "metadata": {},
   "outputs": [],
   "source": [
    "import os\n",
    "import torch\n",
    "import pickle\n",
    "import numpy as np\n",
    "\n",
    "dataset = 'cifar10'\n",
    "\n",
    "softmax_sorted = {}\n",
    "diff_vals = {}\n",
    "for class_idx in range(10):\n",
    "    diff_vals[class_idx] = {}\n",
    "\n",
    "targets_list_loaded = np.load('/storage/users/makhavan/CSI/finals/datasets/generalization_repo_dataset/manual/CIFAR-10-Train-R-A/labels-A.npy')\n",
    "for class_idx in range(10):\n",
    "    indices = [k for k in range(len(targets_list_loaded)) if targets_list_loaded[k]==class_idx]\n",
    "    for file_name in os.listdir('./clip_vec/tensors/'):\n",
    "        if dataset in file_name and 'target' not in file_name and 'normal_data' not in file_name:\n",
    "            with open('./clip_vec/tensors/' + file_name, 'rb') as file:\n",
    "                diffs_loaded = pickle.load(file)\n",
    "        \n",
    "            noise_name = file_name.replace(f\"{dataset}_diffs_\", \"\", 1).split('.')[0]\n",
    "            diff_vals[class_idx][noise_name] = torch.mean(torch.tensor([diffs_loaded[idx].astype(np.float32) for idx in indices])).float()\n",
    "\n",
    "for i in range(10):\n",
    "    softmaxes = torch.nn.functional.softmax(torch.tensor(list(diff_vals[i].values())), dim=0).numpy()\n",
    "    for j, key in enumerate(diff_vals[i].keys()):\n",
    "        diff_vals[i][key] = softmaxes[j]\n",
    "\n",
    "for i in range(10):\n",
    "    sorted_values = sorted(diff_vals[i].items(), key=lambda item: item[1])\n",
    "    diff_vals[i] = dict(sorted_values)\n"
   ]
  },
  {
   "cell_type": "code",
   "execution_count": null,
   "metadata": {},
   "outputs": [],
   "source": [
    "import os\n",
    "import torch\n",
    "import pickle\n",
    "import numpy as np\n",
    "\n",
    "dataset = 'svhn'\n",
    "\n",
    "softmax_sorted = {}\n",
    "diff_vals = {}\n",
    "for class_idx in range(10):\n",
    "    diff_vals[class_idx] = {}\n",
    "\n",
    "targets_list_loaded = np.load('/storage/users/makhavan/CSI/finals/datasets/generalization_repo_dataset/manual/SVHN-Train-R-A/labels-A.npy')\n",
    "for class_idx in range(10):\n",
    "    indices = [k for k in range(len(targets_list_loaded)) if targets_list_loaded[k]==class_idx]\n",
    "    for file_name in os.listdir('./clip_vec/tensors/'):\n",
    "        if dataset in file_name and 'target' not in file_name and 'normal_data' not in file_name:\n",
    "            with open('./clip_vec/tensors/' + file_name, 'rb') as file:\n",
    "                diffs_loaded = pickle.load(file)\n",
    "        \n",
    "            noise_name = file_name.replace(f\"{dataset}_diffs_\", \"\", 1).split('.')[0]\n",
    "            diff_vals[class_idx][noise_name] = torch.mean(torch.tensor([diffs_loaded[idx].astype(np.float32) for idx in indices])).float()\n",
    "\n",
    "for i in range(10):\n",
    "    softmaxes = torch.nn.functional.softmax(torch.tensor(list(diff_vals[i].values())), dim=0).numpy()\n",
    "    for j, key in enumerate(diff_vals[i].keys()):\n",
    "        diff_vals[i][key] = softmaxes[j]\n",
    "\n",
    "for i in range(10):\n",
    "    sorted_values = sorted(diff_vals[i].items(), key=lambda item: item[1])\n",
    "    diff_vals[i] = dict(sorted_values)\n"
   ]
  },
  {
   "cell_type": "code",
   "execution_count": null,
   "metadata": {},
   "outputs": [],
   "source": [
    "with open('./svhn_softmaxed.pkl', 'wb') as f:\n",
    "    pickle.dump(diff_vals, f)"
   ]
  },
  {
   "cell_type": "code",
   "execution_count": null,
   "metadata": {},
   "outputs": [],
   "source": [
    "import pandas as pd\n",
    "dfs = []\n",
    "for i in range(10):\n",
    "    pd.DataFrame(diff_vals[i], index=[i]).T.to_csv(f'{i}.csv', index=True)"
   ]
  }
 ],
 "metadata": {
  "kernelspec": {
   "display_name": "Torch",
   "language": "python",
   "name": "python3"
  },
  "language_info": {
   "codemirror_mode": {
    "name": "ipython",
    "version": 3
   },
   "file_extension": ".py",
   "mimetype": "text/x-python",
   "name": "python",
   "nbconvert_exporter": "python",
   "pygments_lexer": "ipython3",
   "version": "3.9.15"
  }
 },
 "nbformat": 4,
 "nbformat_minor": 2
}
