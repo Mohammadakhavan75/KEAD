{
 "cells": [
  {
   "cell_type": "markdown",
   "metadata": {},
   "source": [
    "# plot imgs or feature maps"
   ]
  },
  {
   "cell_type": "code",
   "execution_count": null,
   "metadata": {},
   "outputs": [],
   "source": [
    "import matplotlib.pyplot as plt\n",
    "import cv2\n",
    "idx=0\n",
    "fig, (ax1, ax2, ax3) = plt.subplots(1, 3, figsize=(10, 5))  # Adjust figsize as needed\n",
    "\n",
    "# Display the first image\n",
    "ax1.imshow(cv2.resize(imgs[idx].permute(1,2,0).detach().cpu().numpy(), (128, 128)))\n",
    "ax1.set_title('Image 1')\n",
    "ax1.axis('off')  # Turn off axes for cleaner presentation (optional)\n",
    "\n",
    "# Display the second image\n",
    "ax2.imshow(cv2.resize(positive_imgs[idx].permute(1,2,0).detach().cpu().numpy(), (128, 128)))\n",
    "ax2.set_title('Image 2')\n",
    "ax2.axis('off')  # Turn off axes (optional)\n",
    "\n",
    "ax3.imshow(cv2.resize(negative_imgs[idx].permute(1,2,0).detach().cpu().numpy(), (128, 128)))\n",
    "ax3.set_title('Image 3')\n",
    "ax3.axis('off')  # Turn off axes (optional)\n",
    "\n",
    "# Adjust spacing between subplots (optional)\n",
    "plt.subplots_adjust(left=0.05, right=0.95, wspace=0.05)"
   ]
  },
  {
   "cell_type": "code",
   "execution_count": null,
   "metadata": {},
   "outputs": [],
   "source": [
    "import pandas as pd\n",
    "import os\n",
    "\n",
    "# Define a list to store the dataframes\n",
    "all_dfs = []\n",
    "\n",
    "# Loop through the CSV files and read them into dataframes\n",
    "for filename in os.listdir('./csv_results/report_class_1/'):  # Replace with your filenames\n",
    "  df = pd.read_csv(filename)\n",
    "  all_dfs.append(df)\n",
    "\n",
    "# Combine all dataframes vertically (stacking rows)\n",
    "combined_df = pd.concat(all_dfs, ignore_index=True)  # Optional: reset index\n",
    "\n",
    "# Save the combined dataframe to a new CSV file\n",
    "combined_df.to_csv(\"combined.csv\", index=False)  # Optional: remove index column\n"
   ]
  },
  {
   "cell_type": "code",
   "execution_count": 18,
   "metadata": {},
   "outputs": [
    {
     "name": "stdout",
     "output_type": "stream",
     "text": [
      "gaussian_blur.csv\n",
      "saturate.csv\n",
      "glass_blur.csv\n",
      "defocus_blur.csv\n",
      "snow.csv\n",
      "random_crop.csv\n",
      "brightness.csv\n",
      "gaussian_noise.csv\n",
      "motion_blur.csv\n",
      "shot_noise.csv\n",
      "color_jitter.csv\n",
      "impulse_noise.csv\n",
      "speckle_noise.csv\n",
      "zoom_blur.csv\n",
      "pixelate.csv\n",
      "fog.csv\n",
      "jpeg_compression.csv\n",
      "contrast.csv\n",
      "spatter.csv\n",
      "rot270.csv\n",
      "flip.csv\n",
      "rot90.csv\n",
      "elastic_transform.csv\n"
     ]
    }
   ],
   "source": [
    "import pandas as pd\n",
    "import os\n",
    "all_dfs = []\n",
    "names= []\n",
    "root='./csv_results/report_class_1/'\n",
    "for filename in os.listdir(root):\n",
    "    print(filename)\n",
    "    df = pd.read_csv(root + filename)\n",
    "    df.insert(loc=0, column='noise', value=filename.split('.')[0])\n",
    "    all_dfs.append(df)\n",
    "    names.append(filename.split('.')[0])\n",
    "\n",
    "combined_df = pd.concat(all_dfs, ignore_index=True)\n",
    "combined_df.to_csv(root + \"combined.csv\", index=False)"
   ]
  },
  {
   "cell_type": "code",
   "execution_count": null,
   "metadata": {},
   "outputs": [],
   "source": []
  }
 ],
 "metadata": {
  "kernelspec": {
   "display_name": "Torch",
   "language": "python",
   "name": "python3"
  },
  "language_info": {
   "codemirror_mode": {
    "name": "ipython",
    "version": 3
   },
   "file_extension": ".py",
   "mimetype": "text/x-python",
   "name": "python",
   "nbconvert_exporter": "python",
   "pygments_lexer": "ipython3",
   "version": "3.9.15"
  }
 },
 "nbformat": 4,
 "nbformat_minor": 2
}
