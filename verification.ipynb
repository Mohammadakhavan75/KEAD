{
 "cells": [
  {
   "cell_type": "markdown",
   "metadata": {},
   "source": [
    "# plot imgs or feature maps"
   ]
  },
  {
   "cell_type": "code",
   "execution_count": null,
   "metadata": {},
   "outputs": [],
   "source": [
    "import matplotlib.pyplot as plt\n",
    "import cv2\n",
    "idx=0\n",
    "fig, (ax1, ax2, ax3) = plt.subplots(1, 3, figsize=(10, 5))  # Adjust figsize as needed\n",
    "\n",
    "# Display the first image\n",
    "ax1.imshow(cv2.resize(imgs[idx].permute(1,2,0).detach().cpu().numpy(), (128, 128)))\n",
    "ax1.set_title('Image 1')\n",
    "ax1.axis('off')  # Turn off axes for cleaner presentation (optional)\n",
    "\n",
    "# Display the second image\n",
    "ax2.imshow(cv2.resize(positive_imgs[idx].permute(1,2,0).detach().cpu().numpy(), (128, 128)))\n",
    "ax2.set_title('Image 2')\n",
    "ax2.axis('off')  # Turn off axes (optional)\n",
    "\n",
    "ax3.imshow(cv2.resize(negative_imgs[idx].permute(1,2,0).detach().cpu().numpy(), (128, 128)))\n",
    "ax3.set_title('Image 3')\n",
    "ax3.axis('off')  # Turn off axes (optional)\n",
    "\n",
    "# Adjust spacing between subplots (optional)\n",
    "plt.subplots_adjust(left=0.05, right=0.95, wspace=0.05)"
   ]
  }
 ],
 "metadata": {
  "language_info": {
   "name": "python"
  }
 },
 "nbformat": 4,
 "nbformat_minor": 2
}
