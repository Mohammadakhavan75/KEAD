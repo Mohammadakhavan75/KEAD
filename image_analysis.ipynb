{
 "cells": [
  {
   "cell_type": "markdown",
   "metadata": {},
   "source": [
    "# SSIM"
   ]
  },
  {
   "cell_type": "code",
   "execution_count": null,
   "metadata": {},
   "outputs": [],
   "source": [
    "from skimage.metrics import structural_similarity as ssim\n",
    "import cv2\n",
    "\n",
    "# Load the images in grayscale\n",
    "image1 = cv2.imread('image1.jpg', cv2.IMREAD_GRAYSCALE)\n",
    "image2 = cv2.imread('image2.jpg', cv2.IMREAD_GRAYSCALE)\n",
    "\n",
    "# Compute SSIM between the two images\n",
    "ssim_index, ssim_map = ssim(image1, image2, full=True)\n",
    "\n",
    "print(\"SSIM:\", ssim_index)\n"
   ]
  },
  {
   "cell_type": "code",
   "execution_count": null,
   "metadata": {},
   "outputs": [],
   "source": [
    "from skimage.metrics import structural_similarity as ssim\n",
    "import numpy as np\n",
    "\n",
    "# Example feature maps\n",
    "feature_map1 = np.random.rand(64, 64)  # Example feature map\n",
    "feature_map2 = np.random.rand(64, 64)  # Another example feature map\n",
    "\n",
    "# Compute SSIM\n",
    "ssim_index, ssim_map = ssim(feature_map1, feature_map2, full=True)\n",
    "\n",
    "print(\"SSIM between feature maps:\", ssim_index)\n"
   ]
  },
  {
   "cell_type": "markdown",
   "metadata": {},
   "source": [
    "# Cosine Similarity"
   ]
  },
  {
   "cell_type": "code",
   "execution_count": null,
   "metadata": {},
   "outputs": [],
   "source": [
    "from sklearn.metrics.pairwise import cosine_similarity\n",
    "import numpy as np\n",
    "\n",
    "# Example feature vectors\n",
    "feature_vector1 = np.random.rand(128)  # 128-dimensional feature vector\n",
    "feature_vector2 = np.random.rand(128)\n",
    "\n",
    "# Calculate cosine similarity\n",
    "cosine_sim = cosine_similarity([feature_vector1], [feature_vector2])\n",
    "\n",
    "print(\"Cosine Similarity:\", cosine_sim[0][0])\n"
   ]
  },
  {
   "cell_type": "markdown",
   "metadata": {},
   "source": [
    "# ORB"
   ]
  },
  {
   "cell_type": "code",
   "execution_count": null,
   "metadata": {},
   "outputs": [],
   "source": [
    "import cv2\n",
    "\n",
    "def orb_feature_compare(imageA, imageB):\n",
    "    # Convert to grayscale\n",
    "    imageA = cv2.cvtColor(imageA, cv2.COLOR_BGR2GRAY)\n",
    "    imageB = cv2.cvtColor(imageB, cv2.COLOR_BGR2GRAY)\n",
    "\n",
    "    # Initialize ORB detector\n",
    "    orb = cv2.ORB_create()\n",
    "\n",
    "    # Find the keypoints and descriptors with ORB\n",
    "    kpA, desA = orb.detectAndCompute(imageA, None)\n",
    "    kpB, desB = orb.detectAndCompute(imageB, None)\n",
    "\n",
    "    # Match descriptors\n",
    "    bf = cv2.BFMatcher(cv2.NORM_HAMMING, crossCheck=True)\n",
    "    matches = bf.match(desA, desB)\n",
    "    \n",
    "    # Sort matches by distance\n",
    "    matches = sorted(matches, key=lambda x: x.distance)\n",
    "    \n",
    "    return len(matches), matches\n",
    "\n",
    "# Load images\n",
    "imageA = cv2.imread('image1.webp')\n",
    "imageB = cv2.imread('image2.webp')\n",
    "\n",
    "# Compare features using ORB\n",
    "matches_count, matches = orb_feature_compare(imageA, imageB)\n",
    "print(f\"Number of Matches: {matches_count}\")"
   ]
  },
  {
   "cell_type": "markdown",
   "metadata": {},
   "source": [
    "# Grad-CAM"
   ]
  },
  {
   "cell_type": "code",
   "execution_count": null,
   "metadata": {},
   "outputs": [],
   "source": [
    "import torchvision\n",
    "import matplotlib.pyplot as plt\n",
    "\n",
    "\n",
    "def prep_output(img_tensor):\n",
    "    invTrans = torchvision.transforms.Compose([ torchvision.transforms.Normalize(mean = [ 0., 0., 0. ],\n",
    "                                                    std = [ 1/0.229, 1/0.224, 1/0.225 ]),\n",
    "                            torchvision.transforms.Normalize(mean = [ -0.485, -0.456, -0.406 ],\n",
    "                                                    std = [ 1., 1., 1. ]),\n",
    "                            ])\n",
    "    out = invTrans(img_tensor)\n",
    "    out = out.cpu().detach().numpy().transpose(1, 2, 0)\n",
    "\n",
    "    return out\n",
    "\n",
    "def plot_maps(img1, img2,vmin=0.3,vmax=0.7, mix_val=2):\n",
    "    f = plt.figure(figsize=(10,30))\n",
    "    plt.subplot(1,3,1)\n",
    "    plt.imshow(img1,vmin=vmin, vmax=vmax, cmap=\"gray\")\n",
    "    plt.axis(\"off\")\n",
    "    plt.subplot(1,3,2)\n",
    "    plt.imshow(img2, cmap=\"gray\")\n",
    "    plt.axis(\"off\")\n",
    "    plt.subplot(1,3,3)\n",
    "    plt.imshow(img1*mix_val+img2/mix_val, cmap=\"gray\" )\n",
    "    plt.axis(\"off\")\n",
    "\n",
    "def norm_flat_image(img):\n",
    "    grads_norm = prep_output(img)\n",
    "    grads_norm = grads_norm[:,:,0]+ grads_norm[:,:,1]+ grads_norm[:,:,2]\n",
    "    grads_norm = (grads_norm - np.min(grads_norm))/ (np.max(grads_norm)- np.min(grads_norm))\n",
    "    return grads_norm\n",
    "\n",
    "\n",
    "probabilities = torch.nn.functional.softmax(imgs_out[0], dim=0)\n",
    "top5_prob, top5_catid = torch.topk(probabilities, 5)\n",
    "imgs_out[0, top5_catid[0]].backward()\n",
    "norm_img = norm_flat_image(imgs[0])\n",
    "norm_grad = norm_flat_image(imgs[0].grad)\n",
    "plot_maps(norm_grad, norm_img)"
   ]
  },
  {
   "cell_type": "markdown",
   "metadata": {},
   "source": [
    "# Main"
   ]
  },
  {
   "cell_type": "code",
   "execution_count": null,
   "metadata": {},
   "outputs": [],
   "source": [
    "import torch\n",
    "import torchvision\n",
    "import numpy as np\n",
    "import torch.nn as nn\n",
    "from PIL import Image\n",
    "import matplotlib.pyplot as plt\n",
    "import json\n",
    "import argparse\n",
    "\n",
    "from torchvision.models import wide_resnet50_2\n",
    "from models.resnet import ResNet18\n",
    "from torchvision.transforms import transforms\n",
    "from dataset_loader import noise_loader, load_cifar10, load_svhn, load_cifar100, load_imagenet, load_mvtec_ad, load_visa\n",
    "from torch.utils.data.dataset import Subset\n",
    "import PIL\n",
    "class load_np_dataset(torch.utils.data.Dataset):\n",
    "    def __init__(self, imgs_path, targets_path, transform, dataset):\n",
    "        self.dataset = dataset\n",
    "        self.data = np.load(imgs_path)\n",
    "        self.targets = np.load(targets_path)\n",
    "\n",
    "        self.transform = transform\n",
    "        \n",
    "    def __len__(self):\n",
    "        return len(self.data)\n",
    "\n",
    "    def __getitem__(self, idx):\n",
    "        img , target = self.data[idx], self.targets[idx]\n",
    "            \n",
    "        img = PIL.Image.fromarray(img)\n",
    "        img = self.transform(img)\n",
    "\n",
    "        return img, target\n",
    "\n",
    "\n",
    "def get_subclass_dataset(dataset, classes):\n",
    "    if not isinstance(classes, list):\n",
    "        classes = [classes]\n",
    "\n",
    "    indices = []\n",
    "    for idx, tgt in enumerate(dataset.targets):\n",
    "        if tgt in classes:\n",
    "            indices.append(idx)\n",
    "\n",
    "    dataset = Subset(dataset, indices)\n",
    "    return dataset\n",
    "\n",
    "\n",
    "\n",
    "\n",
    "def loading_datasets(args, data_path, imagenet_path, transform):\n",
    "    if args.dataset == 'cifar10':\n",
    "        args.num_classes = 10\n",
    "        train_loader, test_loader = load_cifar10(data_path,\n",
    "                                            transforms=transform,\n",
    "                                            batch_size=args.batch_size,\n",
    "                                            one_class_idx=args.one_class_idx,\n",
    "                                            seed=args.seed)\n",
    "    elif args.dataset == 'svhn':\n",
    "        args.num_classes = 10\n",
    "        train_loader, test_loader = load_svhn(data_path, \n",
    "                                            transforms=transform,\n",
    "                                            batch_size=args.batch_size,\n",
    "                                            one_class_idx=args.one_class_idx,\n",
    "                                            seed=args.seed)\n",
    "    elif args.dataset == 'cifar100':\n",
    "        args.num_classes = 20\n",
    "        train_loader, test_loader = load_cifar100(data_path, \n",
    "                                                transforms=transform,\n",
    "                                                batch_size=args.batch_size,\n",
    "                                                one_class_idx=args.one_class_idx,\n",
    "                                                seed=args.seed)\n",
    "    elif args.dataset == 'imagenet30':\n",
    "        args.num_classes = 30\n",
    "        train_loader, test_loader = load_imagenet(imagenet_path, \n",
    "                                                transforms=transform,\n",
    "                                                batch_size=args.batch_size,\n",
    "                                                one_class_idx=args.one_class_idx,\n",
    "                                                seed=args.seed)\n",
    "    elif args.dataset == 'mvtec_ad':\n",
    "        args.num_classes = 15\n",
    "        train_loader, test_loader = load_mvtec_ad(data_path, \n",
    "                                                transforms=transform,\n",
    "                                                resize=args.img_size,\n",
    "                                                batch_size=args.batch_size,\n",
    "                                                one_class_idx=args.one_class_idx,\n",
    "                                                seed=args.seed)\n",
    "\n",
    "    elif args.dataset == 'visa':\n",
    "        args.num_classes = 12\n",
    "        train_loader, test_loader = load_visa(data_path, \n",
    "                                            transforms=transform,\n",
    "                                            resize=args.img_size,\n",
    "                                            batch_size=args.batch_size,\n",
    "                                            one_class_idx=args.one_class_idx,\n",
    "                                            seed=args.seed)\n",
    "    \n",
    "    print(\"Start Loading noises\")\n",
    "    train_positives_loader, train_negetives_loader,\\\n",
    "    test_positives_loader, test_negetives_loader = noise_loader(\n",
    "                    args,\n",
    "                    transform=transform,\n",
    "                    batch_size=args.batch_size,\n",
    "                    one_class_idx=args.one_class_idx,\n",
    "                    resize=args.img_size,\n",
    "                    dataset=args.dataset,\n",
    "                    preprocessing=args.preprocessing, \n",
    "                    k_pairs=args.k_pairs,\n",
    "                    seed=args.seed)\n",
    "    print(\"Loading noises finished!\")\n",
    "\n",
    "    return train_loader, test_loader, train_positives_loader, train_negetives_loader, test_positives_loader, test_negetives_loader\n",
    "\n",
    "\n",
    "def parsing():\n",
    "    parser = argparse.ArgumentParser(description='',\n",
    "                                    formatter_class=argparse.ArgumentDefaultsHelpFormatter)\n",
    "    parser.add_argument('--dataset', default='cifar10', type=str, help='cifar10-cifar100-svhn')\n",
    "    parser.add_argument('--one_class_idx', default=None, type=int, help='select one class index')\n",
    "    parser.add_argument('--config', default=None, help='Config file for reading paths')\n",
    "    parser.add_argument('--batch_size', '-b', type=int, default=1, help='Batch size.')\n",
    "    parser.add_argument('--seed', type=int, default=1, help='1')\n",
    "    parser.add_argument('--img_size', default=32, type=int, help='image size selection')\n",
    "    parser.add_argument('--preprocessing', default='clip', type=str, help='which preprocessing use for noise order')\n",
    "    parser.add_argument('--k_pairs', default=1, type=int, help='Selecting multiple pairs for contrastive loss')\n",
    "    parser.add_argument('--device', type=str, default=\"cuda\", help='cuda or cpu.')\n",
    "    args = parser.parse_args()\n",
    "\n",
    "    return args\n",
    "\n",
    "\n",
    "\n",
    "\n",
    "\n",
    "import sys\n",
    "sys.argv = [\"\", \"--one_class_idx\", \"0\", \"--dataset\", \"cifar10\", \"--batch_size\", \"1\"]\n",
    "\n",
    "with open('config.json', 'r') as config_file:\n",
    "    config = json.load(config_file)\n",
    "\n",
    "\n",
    "\n",
    "root_path = config['root_path']\n",
    "data_path = config['data_path']\n",
    "imagenet_path = config['imagenet_path']\n",
    "args = parsing()\n",
    "args.config = config\n",
    "\n",
    "import pickle \n",
    "with open(f'./ranks/clip/{args.dataset}/wasser_dist_softmaxed.pkl', 'rb') as file:\n",
    "    probs = pickle.load(file)    "
   ]
  },
  {
   "cell_type": "markdown",
   "metadata": {},
   "source": [
    "## Clip"
   ]
  },
  {
   "cell_type": "code",
   "execution_count": null,
   "metadata": {},
   "outputs": [],
   "source": [
    "from clip import clip\n",
    "model, transform = clip.load(\"ViT-L/14\", device=args.device)"
   ]
  },
  {
   "cell_type": "markdown",
   "metadata": {},
   "source": [
    "## Resnet-50 Wide"
   ]
  },
  {
   "cell_type": "code",
   "execution_count": 2,
   "metadata": {},
   "outputs": [
    {
     "name": "stderr",
     "output_type": "stream",
     "text": [
      "C:\\Users\\Mohammad\\AppData\\Roaming\\Python\\Python312\\site-packages\\torchvision\\models\\_utils.py:135: UserWarning: Using 'weights' as positional parameter(s) is deprecated since 0.13 and may be removed in the future. Please use keyword parameter(s) instead.\n",
      "  warnings.warn(\n"
     ]
    }
   ],
   "source": [
    "model = wide_resnet50_2(\"IMAGENET1K_V2\")\n",
    "transform = torchvision.transforms.Compose([torchvision.transforms.ToTensor(),\n",
    "                                            torchvision.transforms.Resize(256),\n",
    "                                            torchvision.transforms.CenterCrop(224)])\n",
    "\n",
    "# Recursive function to register hooks for all layers, including nested ones\n",
    "def register_hooks(model, feature_maps):\n",
    "    hook_handles = []\n",
    "\n",
    "    def hook_fn(module, input, output, layer_name):\n",
    "        feature_maps[layer_name] = output\n",
    "\n",
    "    def recursive_hook_register(module, parent_name=\"\"):\n",
    "        for name, sub_module in module.named_children():\n",
    "            full_name = f\"{parent_name}.{name}\" if parent_name else name\n",
    "            handle = sub_module.register_forward_hook(\n",
    "                lambda module, input, output, name=full_name: hook_fn(module, input, output, name)\n",
    "            )\n",
    "            hook_handles.append(handle)\n",
    "            # Recursively register hooks for nested layers\n",
    "            recursive_hook_register(sub_module, full_name)\n",
    "\n",
    "    recursive_hook_register(model)\n",
    "    return hook_handles\n",
    "\n",
    "\n",
    "# Forward pass and capture feature maps\n",
    "def get_all_feature_maps(model, img_tensor):\n",
    "    feature_maps = {}\n",
    "    hook_handles = register_hooks(model, feature_maps)\n",
    "\n",
    "    # Forward pass\n",
    "    model(img_tensor)\n",
    "\n",
    "    # Remove hooks\n",
    "    for handle in hook_handles:\n",
    "        handle.remove()\n",
    "\n",
    "    return feature_maps"
   ]
  },
  {
   "cell_type": "markdown",
   "metadata": {},
   "source": [
    "## Run"
   ]
  },
  {
   "cell_type": "code",
   "execution_count": 14,
   "metadata": {},
   "outputs": [
    {
     "data": {
      "text/plain": [
       "{'gaussian_blur': 0.092342176,\n",
       " 'flip': 0.092739664,\n",
       " 'snow': 0.096888825,\n",
       " 'rot90': 0.100596465,\n",
       " 'rot270': 0.10067636,\n",
       " 'color_jitter': 0.100792915,\n",
       " 'random_crop': 0.10263214,\n",
       " 'jpeg_compression': 0.10320303,\n",
       " 'gaussian_noise': 0.104047686,\n",
       " 'glass_blur': 0.106080756}"
      ]
     },
     "execution_count": 14,
     "metadata": {},
     "output_type": "execute_result"
    }
   ],
   "source": [
    "probs[args.one_class_idx]"
   ]
  },
  {
   "cell_type": "code",
   "execution_count": null,
   "metadata": {},
   "outputs": [
    {
     "name": "stdout",
     "output_type": "stream",
     "text": [
      "loading cifar10\n",
      "Files already downloaded and verified\n",
      "Files already downloaded and verified\n",
      "Start Loading noises\n",
      "Creating noises loader\n",
      "Selecting flip as positive pair for class 0\n",
      "Selecting glass_blur as negetive pair for class 0\n",
      "Loading noises finished!\n"
     ]
    }
   ],
   "source": [
    "train_loader, test_loader, train_positives_loader, train_negetives_loader,\\\n",
    "    test_positives_loader, test_negetives_loader = loading_datasets(args, data_path, imagenet_path, transform=transform)\n",
    "\n",
    "import os\n",
    "np_train_target_path = os.path.join(args.config['generalization_path'], f'{args.dataset}_Train_s1/labels.npy')\n",
    "np_test_target_path = os.path.join(args.config['generalization_path'], f'{args.dataset}_Test_s5/labels.npy')\n",
    "np_train_root_path = os.path.join(args.config['generalization_path'], f'{args.dataset}_Train_s1')\n",
    "np_test_root_path = os.path.join(args.config['generalization_path'], f'{args.dataset}_Test_s5')\n",
    "np_test_img_path = os.path.join(np_test_root_path, noise + '.npy')"
   ]
  },
  {
   "cell_type": "code",
   "execution_count": null,
   "metadata": {},
   "outputs": [],
   "source": [
    "imgs_out = []\n",
    "p_imgs_out = []\n",
    "n_imgs_out = []\n",
    "model = model.to(args.device)\n",
    "model.eval()\n",
    "\n",
    "iter = 0\n",
    "for (normal, p_data, n_data) in zip(train_loader, train_positives_loader[0], train_negetives_loader[0]):\n",
    "    imgs, labels = normal\n",
    "    p_imgs, p_label = p_data\n",
    "    n_imgs, n_label = n_data\n",
    "    assert torch.equal(torch.squeeze(labels), torch.squeeze(p_label)), f\"The labels of positives images do not match to noraml images, {torch.squeeze(labels)}, {torch.squeeze(p_label)}\"\n",
    "    assert torch.equal(torch.squeeze(labels), torch.squeeze(n_label)), f\"The labels of negatives images do not match to noraml images, {torch.squeeze(labels)}, {torch.squeeze(n_label)}\"\n",
    "    imgs, labels = imgs.to(args.device), labels.to(args.device)\n",
    "    p_imgs = p_imgs.to(args.device)\n",
    "    n_imgs = n_imgs.to(args.device)\n",
    "\n",
    "    imgs.requires_grad = True\n",
    "    p_imgs.requires_grad = True\n",
    "    n_imgs.requires_grad = True\n",
    "\n",
    "    # imgs_out = model.encode_image(imgs)\n",
    "    # p_imgs_out = model.encode_image(p_imgs)\n",
    "    # n_imgs_out = model.encode_image(n_imgs)\n",
    "\n",
    "    # imgs_out.append(model.encode_image(imgs))\n",
    "    # p_imgs_out.append(model.encode_image(p_imgs))\n",
    "    # n_imgs_out.append(model.encode_image(n_imgs))\n",
    "\n",
    "    # imgs_out = model(imgs)\n",
    "    # p_imgs_out = model(p_imgs)\n",
    "    # n_imgs_out = model(n_imgs)\n",
    "\n",
    "    imgs_out.append(get_all_feature_maps(model, imgs)['avgpool'].view(-1, 2048).cpu().detach().numpy()[0])\n",
    "    p_imgs_out.append(get_all_feature_maps(model, p_imgs)['avgpool'].view(-1, 2048).cpu().detach().numpy()[0])\n",
    "    n_imgs_out.append(get_all_feature_maps(model, n_imgs)['avgpool'].view(-1, 2048).cpu().detach().numpy()[0])\n",
    "    if iter > 128:\n",
    "        break\n",
    "    iter += 1"
   ]
  },
  {
   "cell_type": "code",
   "execution_count": 5,
   "metadata": {},
   "outputs": [],
   "source": [
    "x = np.concatenate((np.array(imgs_out), np.array(p_imgs_out)), axis=0)\n",
    "# x = np.concatenate((imgs_out[0].cpu().detach().numpy(), p_imgs_out.cpu().detach().numpy()), axis=0)\n",
    "y = np.concatenate((np.ones(len(imgs_out)), np.zeros(len(p_imgs_out))), axis=0)"
   ]
  },
  {
   "cell_type": "code",
   "execution_count": 6,
   "metadata": {},
   "outputs": [
    {
     "data": {
      "text/plain": [
       "((260, 2048), (260,))"
      ]
     },
     "execution_count": 6,
     "metadata": {},
     "output_type": "execute_result"
    }
   ],
   "source": [
    "x.shape, y.shape"
   ]
  },
  {
   "cell_type": "code",
   "execution_count": 7,
   "metadata": {},
   "outputs": [],
   "source": [
    "from sklearn.manifold import TSNE\n",
    "import pandas as pd\n",
    "import plotly.express as px "
   ]
  },
  {
   "cell_type": "code",
   "execution_count": 8,
   "metadata": {},
   "outputs": [
    {
     "name": "stdout",
     "output_type": "stream",
     "text": [
      "[t-SNE] Computing 91 nearest neighbors...\n",
      "[t-SNE] Indexed 260 samples in 0.001s...\n",
      "[t-SNE] Computed neighbors for 260 samples in 0.166s...\n",
      "[t-SNE] Computed conditional probabilities for sample 260 / 260\n",
      "[t-SNE] Mean sigma: 5.731060\n",
      "[t-SNE] KL divergence after 250 iterations with early exaggeration: 54.045128\n",
      "[t-SNE] KL divergence after 1000 iterations: 0.479017\n"
     ]
    },
    {
     "data": {
      "application/vnd.plotly.v1+json": {
       "config": {
        "plotlyServerURL": "https://plot.ly"
       },
       "data": [
        {
         "hovertemplate": "color=0<br>Component 1=%{x}<br>Component 2=%{y}<extra></extra>",
         "legendgroup": "0",
         "marker": {
          "color": "#636efa",
          "symbol": "circle"
         },
         "mode": "markers",
         "name": "0",
         "orientation": "v",
         "showlegend": true,
         "type": "scatter",
         "x": [
          -15.359933853149414,
          5.604868412017822,
          17.238351821899414,
          4.10059928894043,
          1.1099454164505005,
          14.219101905822754,
          -1.7016255855560303,
          14.462872505187988,
          -8.947836875915527,
          -19.438682556152344,
          3.686073064804077,
          -14.270302772521973,
          -7.783907890319824,
          -6.830180644989014,
          -9.697461128234863,
          -25.9486026763916,
          -4.124760150909424,
          -1.2392802238464355,
          8.94489860534668,
          10.231658935546875,
          -14.191823959350586,
          11.009439468383789,
          7.096043109893799,
          2.1895105838775635,
          -3.2329726219177246,
          -5.099143028259277,
          -5.31709623336792,
          -7.647525787353516,
          -7.35408353805542,
          9.157474517822266,
          -12.176006317138672,
          1.8101993799209595,
          0.9114668965339661,
          -1.4278656244277954,
          -16.114635467529297,
          -12.429051399230957,
          23.576801300048828,
          19.599088668823242,
          -11.916682243347168,
          26.180877685546875,
          -16.924392700195312,
          -20.17418098449707,
          -10.047959327697754,
          -20.256715774536133,
          -1.4176663160324097,
          22.44019317626953,
          -3.1439075469970703,
          -4.025559902191162,
          -20.231950759887695,
          -6.151861667633057,
          18.768701553344727,
          -26.84369659423828,
          -5.84362268447876,
          8.11819839477539,
          -5.567230701446533,
          14.8618745803833,
          -10.295677185058594,
          -25.846508026123047,
          19.7369384765625,
          12.862067222595215,
          10.27950382232666,
          3.880054473876953,
          -19.506689071655273,
          1.8303474187850952,
          -2.1242904663085938,
          16.84635353088379,
          -25.54875946044922,
          -19.60294532775879,
          1.6732689142227173,
          10.392477035522461,
          -22.825166702270508,
          16.977060317993164,
          21.980688095092773,
          -14.520328521728516,
          -7.984515190124512,
          -12.550420761108398,
          -0.9287349581718445,
          17.34415054321289,
          -8.940670013427734,
          23.039575576782227,
          -12.630420684814453,
          -8.342358589172363,
          17.569292068481445,
          3.8580126762390137,
          11.765164375305176,
          -10.192533493041992,
          1.7019355297088623,
          11.640053749084473,
          6.542356967926025,
          0.6115601062774658,
          -3.703878879547119,
          7.884605407714844,
          9.796527862548828,
          23.29766845703125,
          14.719925880432129,
          -1.9973413944244385,
          4.035775184631348,
          16.680179595947266,
          7.584333419799805,
          14.485875129699707,
          -15.499542236328125,
          4.473282337188721,
          6.758606433868408,
          -16.587081909179688,
          -4.909471035003662,
          -16.0764102935791,
          -20.837020874023438,
          -17.016254425048828,
          5.676260948181152,
          9.228976249694824,
          16.21554183959961,
          -13.946633338928223,
          -6.346776008605957,
          -12.447580337524414,
          5.1313090324401855,
          9.977210998535156,
          6.3574700355529785,
          27.27196502685547,
          -11.988359451293945,
          -11.265292167663574,
          -4.372440814971924,
          1.5762372016906738,
          13.370924949645996,
          -10.20907974243164,
          12.38811206817627,
          4.265152454376221,
          -15.771300315856934,
          -2.3417513370513916,
          6.443138122558594,
          13.184517860412598
         ],
         "xaxis": "x",
         "y": [
          15.217256546020508,
          -4.4966230392456055,
          7.930408477783203,
          4.660346508026123,
          7.226378917694092,
          9.267943382263184,
          9.715371131896973,
          -14.401294708251953,
          10.098771095275879,
          -10.27186393737793,
          -17.261032104492188,
          -1.534105658531189,
          7.470029354095459,
          4.096770763397217,
          -5.078733444213867,
          6.495665073394775,
          14.436668395996094,
          -1.1680306196212769,
          -6.273378849029541,
          8.664435386657715,
          -6.819088459014893,
          -21.2777042388916,
          -15.500144004821777,
          -10.12768840789795,
          18.74022674560547,
          6.322266101837158,
          10.359136581420898,
          1.95541512966156,
          -1.136923909187317,
          -0.3666001558303833,
          3.6513237953186035,
          2.4312028884887695,
          -22.279523849487305,
          -7.791979789733887,
          7.321099758148193,
          0.766016960144043,
          6.3719162940979,
          -6.140623092651367,
          -13.91522216796875,
          -1.1015874147415161,
          4.259433746337891,
          11.393688201904297,
          2.031586170196533,
          7.325074672698975,
          -11.446420669555664,
          2.157221794128418,
          7.054527759552002,
          24.032346725463867,
          -4.370508193969727,
          -18.665210723876953,
          -1.2327914237976074,
          0.9580489993095398,
          -12.672771453857422,
          6.637300491333008,
          1.3264007568359375,
          -12.651981353759766,
          6.276403427124023,
          -6.01829719543457,
          -11.089462280273438,
          2.269977569580078,
          13.411495208740234,
          -2.32493257522583,
          2.2741212844848633,
          -5.274232864379883,
          -4.081446647644043,
          -9.974311828613281,
          11.300583839416504,
          17.26378059387207,
          -13.579733848571777,
          -15.55967903137207,
          4.200098514556885,
          -6.955158233642578,
          -3.3891963958740234,
          2.302525520324707,
          18.29020881652832,
          23.846858978271484,
          4.612746715545654,
          2.728116035461426,
          4.7473039627075195,
          -8.547481536865234,
          8.432204246520996,
          13.782408714294434,
          -17.17979621887207,
          0.6577896475791931,
          -1.7160112857818604,
          -0.9454538226127625,
          17.56705093383789,
          -7.738288879394531,
          -10.756020545959473,
          12.983308792114258,
          3.9239251613616943,
          -3.0736165046691895,
          -12.202621459960938,
          -14.231616020202637,
          -2.215536594390869,
          -16.71747589111328,
          23.690834045410156,
          12.914006233215332,
          18.12998390197754,
          -6.643221855163574,
          19.107099533081055,
          8.537174224853516,
          3.014897584915161,
          0.48251456022262573,
          -7.684436798095703,
          -4.083163738250732,
          -0.5829427242279053,
          -14.761078834533691,
          12.992798805236816,
          -9.21725845336914,
          -4.420705318450928,
          4.991492748260498,
          -4.699197769165039,
          11.425468444824219,
          -8.201910972595215,
          4.330526828765869,
          -20.40480613708496,
          -7.884260177612305,
          -3.5423295497894287,
          16.196935653686523,
          -1.4337859153747559,
          -0.6649302244186401,
          -10.15285873413086,
          -8.840193748474121,
          -4.885927677154541,
          -13.27112102508545,
          10.63430404663086,
          1.7717869281768799,
          -0.8669216632843018,
          5.853193283081055
         ],
         "yaxis": "y"
        },
        {
         "hovertemplate": "color=1<br>Component 1=%{x}<br>Component 2=%{y}<extra></extra>",
         "legendgroup": "1",
         "marker": {
          "color": "#EF553B",
          "symbol": "circle"
         },
         "mode": "markers",
         "name": "1",
         "orientation": "v",
         "showlegend": true,
         "type": "scatter",
         "x": [
          -15.324705123901367,
          5.665829181671143,
          17.308185577392578,
          4.033355236053467,
          1.1946583986282349,
          14.208019256591797,
          -1.6801702976226807,
          14.92247486114502,
          -8.85590648651123,
          -19.437713623046875,
          3.6626641750335693,
          -14.1049222946167,
          -7.68391227722168,
          -6.4880571365356445,
          -9.837349891662598,
          -25.934906005859375,
          -4.172041893005371,
          -1.2493281364440918,
          8.929957389831543,
          10.182286262512207,
          -14.215564727783203,
          11.019611358642578,
          7.097304821014404,
          2.1862480640411377,
          -3.227107286453247,
          -5.103538513183594,
          -5.390456199645996,
          -7.805413246154785,
          -7.310904026031494,
          9.096644401550293,
          -12.158621788024902,
          1.8079835176467896,
          0.8901851177215576,
          -1.450787901878357,
          -16.16520118713379,
          -12.598740577697754,
          23.5908203125,
          19.404155731201172,
          -11.882772445678711,
          26.135902404785156,
          -16.912521362304688,
          -20.209915161132812,
          -10.127912521362305,
          -20.18902015686035,
          -1.5277091264724731,
          22.44449234008789,
          -3.132791519165039,
          -4.035398960113525,
          -20.118515014648438,
          -6.176443576812744,
          18.922182083129883,
          -26.872217178344727,
          -5.922820568084717,
          8.177070617675781,
          -5.336905002593994,
          15.149876594543457,
          -10.353433609008789,
          -25.84853744506836,
          19.76360321044922,
          12.855987548828125,
          10.356040000915527,
          4.09916877746582,
          -19.441701889038086,
          1.7953145503997803,
          -2.1708426475524902,
          16.87862205505371,
          -25.578142166137695,
          -19.621177673339844,
          1.6936266422271729,
          10.34770393371582,
          -22.911155700683594,
          16.581626892089844,
          22.02678108215332,
          -14.314871788024902,
          -7.951462745666504,
          -12.56992244720459,
          -1.035596489906311,
          17.32408905029297,
          -8.660199165344238,
          23.05025863647461,
          -12.641425132751465,
          -8.358577728271484,
          17.57735252380371,
          4.005154609680176,
          11.759547233581543,
          -10.272401809692383,
          1.7216414213180542,
          11.642875671386719,
          6.504728317260742,
          0.6153373122215271,
          -3.705388307571411,
          7.805018901824951,
          9.791032791137695,
          23.27030372619629,
          14.822105407714844,
          -1.981996774673462,
          4.02694034576416,
          16.672016143798828,
          7.578434467315674,
          14.544995307922363,
          -15.505329132080078,
          4.502699375152588,
          6.645171165466309,
          -16.79833221435547,
          -4.792754173278809,
          -15.954615592956543,
          -20.72658348083496,
          -17.025487899780273,
          5.69922399520874,
          9.28090763092041,
          15.994794845581055,
          -13.79831314086914,
          -6.298114776611328,
          -12.351950645446777,
          5.146716117858887,
          9.973018646240234,
          6.335488796234131,
          27.297739028930664,
          -12.005221366882324,
          -11.247817993164062,
          -4.377371311187744,
          1.5525683164596558,
          13.21004867553711,
          -10.218657493591309,
          12.454029083251953,
          4.4148759841918945,
          -15.835150718688965,
          -2.1104297637939453,
          6.355676174163818,
          13.183469772338867
         ],
         "xaxis": "x",
         "y": [
          15.238273620605469,
          -4.594018459320068,
          8.024337768554688,
          4.699558734893799,
          7.370875835418701,
          9.21799087524414,
          9.780780792236328,
          -14.45464038848877,
          10.171039581298828,
          -10.291056632995605,
          -17.310155868530273,
          -1.4710420370101929,
          7.528388977050781,
          4.015425682067871,
          -5.181812763214111,
          6.524169445037842,
          14.41103458404541,
          -1.1196973323822021,
          -6.264261722564697,
          8.753211975097656,
          -6.805003643035889,
          -21.31009292602539,
          -15.564582824707031,
          -10.004181861877441,
          18.71184539794922,
          6.150456428527832,
          10.263535499572754,
          2.3037312030792236,
          -1.0875444412231445,
          -0.45061323046684265,
          3.641984462738037,
          2.3207309246063232,
          -22.307605743408203,
          -7.771328926086426,
          7.159163951873779,
          0.7358983755111694,
          6.376940727233887,
          -6.195872783660889,
          -13.893533706665039,
          -1.1205878257751465,
          4.22393274307251,
          11.396330833435059,
          2.222604990005493,
          7.374611854553223,
          -11.45126724243164,
          2.1151416301727295,
          6.815670490264893,
          24.03527069091797,
          -4.270831108093262,
          -18.669361114501953,
          -1.0961874723434448,
          0.9349415302276611,
          -12.702651977539062,
          6.644077301025391,
          1.352101445198059,
          -12.87788200378418,
          6.527652740478516,
          -6.010553359985352,
          -11.129193305969238,
          2.2068026065826416,
          13.538926124572754,
          -2.398169755935669,
          2.2521755695343018,
          -5.268794059753418,
          -4.052614212036133,
          -10.07822036743164,
          11.344240188598633,
          17.269954681396484,
          -13.600650787353516,
          -15.521038055419922,
          4.226166248321533,
          -7.091258525848389,
          -3.3280749320983887,
          2.248701333999634,
          18.32146453857422,
          23.85506820678711,
          4.61732292175293,
          2.774831533432007,
          4.758290767669678,
          -8.563271522521973,
          8.51904296875,
          13.664863586425781,
          -17.093950271606445,
          0.4876784086227417,
          -1.740364670753479,
          -0.8243556618690491,
          17.544902801513672,
          -7.703893661499023,
          -10.91931438446045,
          12.9464693069458,
          3.69208025932312,
          -2.893144130706787,
          -12.2057523727417,
          -14.22872543334961,
          -2.1223437786102295,
          -16.68379020690918,
          23.695728302001953,
          12.844216346740723,
          18.140552520751953,
          -6.348768711090088,
          19.030973434448242,
          8.585359573364258,
          3.0296082496643066,
          0.4298296868801117,
          -7.569949150085449,
          -3.9617931842803955,
          -0.6073747277259827,
          -14.754863739013672,
          12.945889472961426,
          -9.169557571411133,
          -4.44381856918335,
          5.1754937171936035,
          -4.661093711853027,
          11.350919723510742,
          -8.114328384399414,
          4.336306095123291,
          -20.384157180786133,
          -7.883188724517822,
          -3.458564043045044,
          16.132736206054688,
          -1.339698076248169,
          -0.5697052478790283,
          -10.211950302124023,
          -8.771024703979492,
          -4.965703010559082,
          -13.314678192138672,
          10.694876670837402,
          1.7840620279312134,
          -0.8240439295768738,
          5.804476737976074
         ],
         "yaxis": "y"
        }
       ],
       "layout": {
        "font": {
         "size": 22
        },
        "height": 1024,
        "legend": {
         "title": {
          "text": "color"
         },
         "tracegroupgap": 0
        },
        "margin": {
         "t": 60
        },
        "template": {
         "data": {
          "bar": [
           {
            "error_x": {
             "color": "#2a3f5f"
            },
            "error_y": {
             "color": "#2a3f5f"
            },
            "marker": {
             "line": {
              "color": "#E5ECF6",
              "width": 0.5
             },
             "pattern": {
              "fillmode": "overlay",
              "size": 10,
              "solidity": 0.2
             }
            },
            "type": "bar"
           }
          ],
          "barpolar": [
           {
            "marker": {
             "line": {
              "color": "#E5ECF6",
              "width": 0.5
             },
             "pattern": {
              "fillmode": "overlay",
              "size": 10,
              "solidity": 0.2
             }
            },
            "type": "barpolar"
           }
          ],
          "carpet": [
           {
            "aaxis": {
             "endlinecolor": "#2a3f5f",
             "gridcolor": "white",
             "linecolor": "white",
             "minorgridcolor": "white",
             "startlinecolor": "#2a3f5f"
            },
            "baxis": {
             "endlinecolor": "#2a3f5f",
             "gridcolor": "white",
             "linecolor": "white",
             "minorgridcolor": "white",
             "startlinecolor": "#2a3f5f"
            },
            "type": "carpet"
           }
          ],
          "choropleth": [
           {
            "colorbar": {
             "outlinewidth": 0,
             "ticks": ""
            },
            "type": "choropleth"
           }
          ],
          "contour": [
           {
            "colorbar": {
             "outlinewidth": 0,
             "ticks": ""
            },
            "colorscale": [
             [
              0,
              "#0d0887"
             ],
             [
              0.1111111111111111,
              "#46039f"
             ],
             [
              0.2222222222222222,
              "#7201a8"
             ],
             [
              0.3333333333333333,
              "#9c179e"
             ],
             [
              0.4444444444444444,
              "#bd3786"
             ],
             [
              0.5555555555555556,
              "#d8576b"
             ],
             [
              0.6666666666666666,
              "#ed7953"
             ],
             [
              0.7777777777777778,
              "#fb9f3a"
             ],
             [
              0.8888888888888888,
              "#fdca26"
             ],
             [
              1,
              "#f0f921"
             ]
            ],
            "type": "contour"
           }
          ],
          "contourcarpet": [
           {
            "colorbar": {
             "outlinewidth": 0,
             "ticks": ""
            },
            "type": "contourcarpet"
           }
          ],
          "heatmap": [
           {
            "colorbar": {
             "outlinewidth": 0,
             "ticks": ""
            },
            "colorscale": [
             [
              0,
              "#0d0887"
             ],
             [
              0.1111111111111111,
              "#46039f"
             ],
             [
              0.2222222222222222,
              "#7201a8"
             ],
             [
              0.3333333333333333,
              "#9c179e"
             ],
             [
              0.4444444444444444,
              "#bd3786"
             ],
             [
              0.5555555555555556,
              "#d8576b"
             ],
             [
              0.6666666666666666,
              "#ed7953"
             ],
             [
              0.7777777777777778,
              "#fb9f3a"
             ],
             [
              0.8888888888888888,
              "#fdca26"
             ],
             [
              1,
              "#f0f921"
             ]
            ],
            "type": "heatmap"
           }
          ],
          "heatmapgl": [
           {
            "colorbar": {
             "outlinewidth": 0,
             "ticks": ""
            },
            "colorscale": [
             [
              0,
              "#0d0887"
             ],
             [
              0.1111111111111111,
              "#46039f"
             ],
             [
              0.2222222222222222,
              "#7201a8"
             ],
             [
              0.3333333333333333,
              "#9c179e"
             ],
             [
              0.4444444444444444,
              "#bd3786"
             ],
             [
              0.5555555555555556,
              "#d8576b"
             ],
             [
              0.6666666666666666,
              "#ed7953"
             ],
             [
              0.7777777777777778,
              "#fb9f3a"
             ],
             [
              0.8888888888888888,
              "#fdca26"
             ],
             [
              1,
              "#f0f921"
             ]
            ],
            "type": "heatmapgl"
           }
          ],
          "histogram": [
           {
            "marker": {
             "pattern": {
              "fillmode": "overlay",
              "size": 10,
              "solidity": 0.2
             }
            },
            "type": "histogram"
           }
          ],
          "histogram2d": [
           {
            "colorbar": {
             "outlinewidth": 0,
             "ticks": ""
            },
            "colorscale": [
             [
              0,
              "#0d0887"
             ],
             [
              0.1111111111111111,
              "#46039f"
             ],
             [
              0.2222222222222222,
              "#7201a8"
             ],
             [
              0.3333333333333333,
              "#9c179e"
             ],
             [
              0.4444444444444444,
              "#bd3786"
             ],
             [
              0.5555555555555556,
              "#d8576b"
             ],
             [
              0.6666666666666666,
              "#ed7953"
             ],
             [
              0.7777777777777778,
              "#fb9f3a"
             ],
             [
              0.8888888888888888,
              "#fdca26"
             ],
             [
              1,
              "#f0f921"
             ]
            ],
            "type": "histogram2d"
           }
          ],
          "histogram2dcontour": [
           {
            "colorbar": {
             "outlinewidth": 0,
             "ticks": ""
            },
            "colorscale": [
             [
              0,
              "#0d0887"
             ],
             [
              0.1111111111111111,
              "#46039f"
             ],
             [
              0.2222222222222222,
              "#7201a8"
             ],
             [
              0.3333333333333333,
              "#9c179e"
             ],
             [
              0.4444444444444444,
              "#bd3786"
             ],
             [
              0.5555555555555556,
              "#d8576b"
             ],
             [
              0.6666666666666666,
              "#ed7953"
             ],
             [
              0.7777777777777778,
              "#fb9f3a"
             ],
             [
              0.8888888888888888,
              "#fdca26"
             ],
             [
              1,
              "#f0f921"
             ]
            ],
            "type": "histogram2dcontour"
           }
          ],
          "mesh3d": [
           {
            "colorbar": {
             "outlinewidth": 0,
             "ticks": ""
            },
            "type": "mesh3d"
           }
          ],
          "parcoords": [
           {
            "line": {
             "colorbar": {
              "outlinewidth": 0,
              "ticks": ""
             }
            },
            "type": "parcoords"
           }
          ],
          "pie": [
           {
            "automargin": true,
            "type": "pie"
           }
          ],
          "scatter": [
           {
            "fillpattern": {
             "fillmode": "overlay",
             "size": 10,
             "solidity": 0.2
            },
            "type": "scatter"
           }
          ],
          "scatter3d": [
           {
            "line": {
             "colorbar": {
              "outlinewidth": 0,
              "ticks": ""
             }
            },
            "marker": {
             "colorbar": {
              "outlinewidth": 0,
              "ticks": ""
             }
            },
            "type": "scatter3d"
           }
          ],
          "scattercarpet": [
           {
            "marker": {
             "colorbar": {
              "outlinewidth": 0,
              "ticks": ""
             }
            },
            "type": "scattercarpet"
           }
          ],
          "scattergeo": [
           {
            "marker": {
             "colorbar": {
              "outlinewidth": 0,
              "ticks": ""
             }
            },
            "type": "scattergeo"
           }
          ],
          "scattergl": [
           {
            "marker": {
             "colorbar": {
              "outlinewidth": 0,
              "ticks": ""
             }
            },
            "type": "scattergl"
           }
          ],
          "scattermapbox": [
           {
            "marker": {
             "colorbar": {
              "outlinewidth": 0,
              "ticks": ""
             }
            },
            "type": "scattermapbox"
           }
          ],
          "scatterpolar": [
           {
            "marker": {
             "colorbar": {
              "outlinewidth": 0,
              "ticks": ""
             }
            },
            "type": "scatterpolar"
           }
          ],
          "scatterpolargl": [
           {
            "marker": {
             "colorbar": {
              "outlinewidth": 0,
              "ticks": ""
             }
            },
            "type": "scatterpolargl"
           }
          ],
          "scatterternary": [
           {
            "marker": {
             "colorbar": {
              "outlinewidth": 0,
              "ticks": ""
             }
            },
            "type": "scatterternary"
           }
          ],
          "surface": [
           {
            "colorbar": {
             "outlinewidth": 0,
             "ticks": ""
            },
            "colorscale": [
             [
              0,
              "#0d0887"
             ],
             [
              0.1111111111111111,
              "#46039f"
             ],
             [
              0.2222222222222222,
              "#7201a8"
             ],
             [
              0.3333333333333333,
              "#9c179e"
             ],
             [
              0.4444444444444444,
              "#bd3786"
             ],
             [
              0.5555555555555556,
              "#d8576b"
             ],
             [
              0.6666666666666666,
              "#ed7953"
             ],
             [
              0.7777777777777778,
              "#fb9f3a"
             ],
             [
              0.8888888888888888,
              "#fdca26"
             ],
             [
              1,
              "#f0f921"
             ]
            ],
            "type": "surface"
           }
          ],
          "table": [
           {
            "cells": {
             "fill": {
              "color": "#EBF0F8"
             },
             "line": {
              "color": "white"
             }
            },
            "header": {
             "fill": {
              "color": "#C8D4E3"
             },
             "line": {
              "color": "white"
             }
            },
            "type": "table"
           }
          ]
         },
         "layout": {
          "annotationdefaults": {
           "arrowcolor": "#2a3f5f",
           "arrowhead": 0,
           "arrowwidth": 1
          },
          "autotypenumbers": "strict",
          "coloraxis": {
           "colorbar": {
            "outlinewidth": 0,
            "ticks": ""
           }
          },
          "colorscale": {
           "diverging": [
            [
             0,
             "#8e0152"
            ],
            [
             0.1,
             "#c51b7d"
            ],
            [
             0.2,
             "#de77ae"
            ],
            [
             0.3,
             "#f1b6da"
            ],
            [
             0.4,
             "#fde0ef"
            ],
            [
             0.5,
             "#f7f7f7"
            ],
            [
             0.6,
             "#e6f5d0"
            ],
            [
             0.7,
             "#b8e186"
            ],
            [
             0.8,
             "#7fbc41"
            ],
            [
             0.9,
             "#4d9221"
            ],
            [
             1,
             "#276419"
            ]
           ],
           "sequential": [
            [
             0,
             "#0d0887"
            ],
            [
             0.1111111111111111,
             "#46039f"
            ],
            [
             0.2222222222222222,
             "#7201a8"
            ],
            [
             0.3333333333333333,
             "#9c179e"
            ],
            [
             0.4444444444444444,
             "#bd3786"
            ],
            [
             0.5555555555555556,
             "#d8576b"
            ],
            [
             0.6666666666666666,
             "#ed7953"
            ],
            [
             0.7777777777777778,
             "#fb9f3a"
            ],
            [
             0.8888888888888888,
             "#fdca26"
            ],
            [
             1,
             "#f0f921"
            ]
           ],
           "sequentialminus": [
            [
             0,
             "#0d0887"
            ],
            [
             0.1111111111111111,
             "#46039f"
            ],
            [
             0.2222222222222222,
             "#7201a8"
            ],
            [
             0.3333333333333333,
             "#9c179e"
            ],
            [
             0.4444444444444444,
             "#bd3786"
            ],
            [
             0.5555555555555556,
             "#d8576b"
            ],
            [
             0.6666666666666666,
             "#ed7953"
            ],
            [
             0.7777777777777778,
             "#fb9f3a"
            ],
            [
             0.8888888888888888,
             "#fdca26"
            ],
            [
             1,
             "#f0f921"
            ]
           ]
          },
          "colorway": [
           "#636efa",
           "#EF553B",
           "#00cc96",
           "#ab63fa",
           "#FFA15A",
           "#19d3f3",
           "#FF6692",
           "#B6E880",
           "#FF97FF",
           "#FECB52"
          ],
          "font": {
           "color": "#2a3f5f"
          },
          "geo": {
           "bgcolor": "white",
           "lakecolor": "white",
           "landcolor": "#E5ECF6",
           "showlakes": true,
           "showland": true,
           "subunitcolor": "white"
          },
          "hoverlabel": {
           "align": "left"
          },
          "hovermode": "closest",
          "mapbox": {
           "style": "light"
          },
          "paper_bgcolor": "white",
          "plot_bgcolor": "#E5ECF6",
          "polar": {
           "angularaxis": {
            "gridcolor": "white",
            "linecolor": "white",
            "ticks": ""
           },
           "bgcolor": "#E5ECF6",
           "radialaxis": {
            "gridcolor": "white",
            "linecolor": "white",
            "ticks": ""
           }
          },
          "scene": {
           "xaxis": {
            "backgroundcolor": "#E5ECF6",
            "gridcolor": "white",
            "gridwidth": 2,
            "linecolor": "white",
            "showbackground": true,
            "ticks": "",
            "zerolinecolor": "white"
           },
           "yaxis": {
            "backgroundcolor": "#E5ECF6",
            "gridcolor": "white",
            "gridwidth": 2,
            "linecolor": "white",
            "showbackground": true,
            "ticks": "",
            "zerolinecolor": "white"
           },
           "zaxis": {
            "backgroundcolor": "#E5ECF6",
            "gridcolor": "white",
            "gridwidth": 2,
            "linecolor": "white",
            "showbackground": true,
            "ticks": "",
            "zerolinecolor": "white"
           }
          },
          "shapedefaults": {
           "line": {
            "color": "#2a3f5f"
           }
          },
          "ternary": {
           "aaxis": {
            "gridcolor": "white",
            "linecolor": "white",
            "ticks": ""
           },
           "baxis": {
            "gridcolor": "white",
            "linecolor": "white",
            "ticks": ""
           },
           "bgcolor": "#E5ECF6",
           "caxis": {
            "gridcolor": "white",
            "linecolor": "white",
            "ticks": ""
           }
          },
          "title": {
           "x": 0.05
          },
          "xaxis": {
           "automargin": true,
           "gridcolor": "white",
           "linecolor": "white",
           "ticks": "",
           "title": {
            "standoff": 15
           },
           "zerolinecolor": "white",
           "zerolinewidth": 2
          },
          "yaxis": {
           "automargin": true,
           "gridcolor": "white",
           "linecolor": "white",
           "ticks": "",
           "title": {
            "standoff": 15
           },
           "zerolinecolor": "white",
           "zerolinewidth": 2
          }
         }
        },
        "width": 1024,
        "xaxis": {
         "anchor": "y",
         "domain": [
          0,
          1
         ],
         "title": {
          "text": "Component 1"
         }
        },
        "yaxis": {
         "anchor": "x",
         "domain": [
          0,
          1
         ],
         "title": {
          "text": "Component 2"
         }
        }
       }
      }
     },
     "metadata": {},
     "output_type": "display_data"
    }
   ],
   "source": [
    "tsne = TSNE(n_components=2, verbose=1, random_state=123, learning_rate='auto')\n",
    "z = tsne.fit_transform(x) \n",
    "df = pd.DataFrame()\n",
    "df[\"y\"] = y\n",
    "df[\"component_1\"] = z[:,0]\n",
    "df[\"component_2\"] = z[:,1]\n",
    "label_str = []\n",
    "for l in df.y.tolist():\n",
    "    if l == 1:\n",
    "        label_str.append('0')\n",
    "    else:\n",
    "        label_str.append('1')\n",
    "\n",
    "fig = px.scatter(data_frame=df, x=\"component_1\", y=\"component_2\", color=label_str,\n",
    "           labels={\n",
    "                     \"component_1\": \"Component 1\",\n",
    "                     \"component_2\": \"Component 2\",\n",
    "                 },\n",
    "            # title=\"\",\n",
    "            width=1024, height=1024)\n",
    "\n",
    "fig.update_layout(\n",
    "    font=dict(\n",
    "        size=22,  # Set the font size here\n",
    "    )\n",
    ")\n",
    "fig.show()\n",
    "# fig.write_image(original_path+prefix_path+config_path+\"{}_vs_{}_tsne.png\".format(class1, class2))"
   ]
  },
  {
   "cell_type": "code",
   "execution_count": 9,
   "metadata": {},
   "outputs": [
    {
     "name": "stdout",
     "output_type": "stream",
     "text": [
      "[t-SNE] Computing 91 nearest neighbors...\n",
      "[t-SNE] Indexed 260 samples in 0.001s...\n",
      "[t-SNE] Computed neighbors for 260 samples in 0.050s...\n",
      "[t-SNE] Computed conditional probabilities for sample 260 / 260\n",
      "[t-SNE] Mean sigma: 4.082521\n",
      "[t-SNE] KL divergence after 250 iterations with early exaggeration: 56.915024\n",
      "[t-SNE] KL divergence after 1000 iterations: 0.730509\n"
     ]
    },
    {
     "data": {
      "application/vnd.plotly.v1+json": {
       "config": {
        "plotlyServerURL": "https://plot.ly"
       },
       "data": [
        {
         "hovertemplate": "color=0<br>Component 1=%{x}<br>Component 2=%{y}<extra></extra>",
         "legendgroup": "0",
         "marker": {
          "color": "#636efa",
          "symbol": "circle"
         },
         "mode": "markers",
         "name": "0",
         "orientation": "v",
         "showlegend": true,
         "type": "scatter",
         "x": [
          -0.36330950260162354,
          -8.14052963256836,
          -11.896488189697266,
          -6.994544506072998,
          -2.896211624145508,
          -11.665247917175293,
          -3.783097267150879,
          -15.296944618225098,
          -0.9861969947814941,
          -2.4924368858337402,
          -10.88262939453125,
          -3.2682394981384277,
          -1.8730536699295044,
          -2.9025042057037354,
          -2.2207870483398438,
          4.440352439880371,
          -1.6127519607543945,
          -7.087661266326904,
          -10.873214721679688,
          -14.145539283752441,
          -0.7408097982406616,
          -12.552986145019531,
          -11.428584098815918,
          -10.107933044433594,
          -4.681432247161865,
          -4.161404609680176,
          -2.809203863143921,
          -2.2602906227111816,
          -0.8783724308013916,
          -9.501324653625488,
          -1.5562946796417236,
          -8.497983932495117,
          -12.108504295349121,
          -7.347370624542236,
          -3.5238823890686035,
          -1.7727924585342407,
          -11.848143577575684,
          -14.385239601135254,
          -3.2586002349853516,
          -14.847332954406738,
          -0.058920182287693024,
          8.577888488769531,
          -1.942726731300354,
          6.057455062866211,
          -10.126452445983887,
          -12.362964630126953,
          -4.370194435119629,
          -6.683316230773926,
          -4.042323112487793,
          -9.791135787963867,
          -12.398780822753906,
          14.283957481384277,
          -8.294547080993652,
          -14.503857612609863,
          -2.63647198677063,
          -15.182018280029297,
          -3.50864839553833,
          -7.407005786895752,
          -15.73236083984375,
          -11.808809280395508,
          -6.366486549377441,
          -8.636941909790039,
          -4.0530009269714355,
          -0.4207999110221863,
          -5.686661720275879,
          -14.51177978515625,
          -5.377086639404297,
          0.04347037896513939,
          -10.442253112792969,
          -11.886771202087402,
          5.261685371398926,
          -14.086822509765625,
          -13.809225082397461,
          -1.4319887161254883,
          1.293741226196289,
          -2.933983325958252,
          -4.789947032928467,
          -10.164212226867676,
          -3.4354093074798584,
          -16.610437393188477,
          -4.171838760375977,
          1.42869234085083,
          -16.594877243041992,
          -7.933531284332275,
          -14.170783996582031,
          -3.6948165893554688,
          -5.843286037445068,
          -12.420808792114258,
          -10.80617904663086,
          -2.0028693675994873,
          -4.800534248352051,
          -9.361409187316895,
          -11.47156047821045,
          -15.416950225830078,
          -12.684078216552734,
          -10.306665420532227,
          0.720104992389679,
          -10.64238452911377,
          -3.3217382431030273,
          -13.664998054504395,
          0.5182634592056274,
          -7.186177730560303,
          -8.127314567565918,
          -2.569645404815674,
          -5.261745929718018,
          -0.36137887835502625,
          -4.743454933166504,
          -0.40292060375213623,
          -1.2154021263122559,
          -11.88532543182373,
          -13.558863639831543,
          -0.8323981761932373,
          -9.460360527038574,
          -5.081063270568848,
          -9.958144187927246,
          -14.375853538513184,
          -10.36683464050293,
          -17.223493576049805,
          -2.593378782272339,
          1.1197386980056763,
          -5.513753414154053,
          -7.871379375457764,
          -13.509255409240723,
          -0.6754962801933289,
          -13.527359008789062,
          -10.731669425964355,
          -5.785399913787842,
          -4.402270793914795,
          -8.86139965057373,
          -10.701847076416016
         ],
         "xaxis": "x",
         "y": [
          0.886559009552002,
          3.9142208099365234,
          -0.7860374450683594,
          1.5188562870025635,
          1.8264871835708618,
          -1.1423025131225586,
          11.062888145446777,
          6.218597888946533,
          4.391471862792969,
          -2.4270410537719727,
          4.9404826164245605,
          5.765091419219971,
          4.149255275726318,
          4.219754219055176,
          8.205639839172363,
          2.5465285778045654,
          2.6757211685180664,
          7.2333784103393555,
          7.6468400955200195,
          0.6766212582588196,
          7.94224214553833,
          3.2644104957580566,
          4.3593902587890625,
          5.9234490394592285,
          0.22042278945446014,
          8.712777137756348,
          2.545713424682617,
          4.911944389343262,
          1.2247685194015503,
          4.493337631225586,
          7.096310138702393,
          7.318260669708252,
          1.8148808479309082,
          8.268754005432129,
          3.080019950866699,
          6.504469871520996,
          10.076583862304688,
          8.498990058898926,
          -2.004345178604126,
          2.3392210006713867,
          6.789525032043457,
          5.175317287445068,
          5.567911624908447,
          4.139824867248535,
          7.600453853607178,
          9.716826438903809,
          8.88149356842041,
          -1.3927143812179565,
          2.1936769485473633,
          -0.9710166454315186,
          8.681838035583496,
          2.3677380084991455,
          3.1839373111724854,
          -0.30944526195526123,
          4.845633029937744,
          6.120754241943359,
          3.936448097229004,
          10.162528991699219,
          5.148324966430664,
          -0.1837206780910492,
          5.229048252105713,
          4.28524112701416,
          6.349482536315918,
          -6.925768852233887,
          5.858593463897705,
          4.449582576751709,
          2.104628086090088,
          2.3965063095092773,
          6.566281795501709,
          4.329007148742676,
          4.5531697273254395,
          7.566079616546631,
          4.852618217468262,
          6.286391258239746,
          6.038008213043213,
          0.19195020198822021,
          4.610820293426514,
          8.600337028503418,
          4.322171211242676,
          4.6651811599731445,
          2.9810023307800293,
          4.814764499664307,
          6.8493452072143555,
          6.002783298492432,
          3.7532243728637695,
          7.191357612609863,
          0.5215820074081421,
          6.324240207672119,
          2.5179998874664307,
          9.293478965759277,
          4.154774188995361,
          5.184750080108643,
          2.271939992904663,
          8.955010414123535,
          7.016109466552734,
          0.23968446254730225,
          -4.2791619300842285,
          -2.0685994625091553,
          -4.3737921714782715,
          6.791045188903809,
          0.5237335562705994,
          3.314290761947632,
          1.4005860090255737,
          6.223474025726318,
          9.043232917785645,
          5.659842491149902,
          6.566372871398926,
          -1.0436780452728271,
          0.2727869749069214,
          5.651939868927002,
          7.337556838989258,
          6.757205486297607,
          0.846276044845581,
          2.5455079078674316,
          1.258455753326416,
          -0.13833236694335938,
          3.3918211460113525,
          4.359216213226318,
          7.584299087524414,
          2.870870590209961,
          7.481482982635498,
          6.073312759399414,
          5.475732326507568,
          9.037798881530762,
          6.501021385192871,
          6.367108345031738,
          3.5852322578430176,
          5.3866682052612305,
          5.266062259674072,
          -0.5948627591133118
         ],
         "yaxis": "y"
        },
        {
         "hovertemplate": "color=1<br>Component 1=%{x}<br>Component 2=%{y}<extra></extra>",
         "legendgroup": "1",
         "marker": {
          "color": "#EF553B",
          "symbol": "circle"
         },
         "mode": "markers",
         "name": "1",
         "orientation": "v",
         "showlegend": true,
         "type": "scatter",
         "x": [
          9.2205171585083,
          9.417506217956543,
          8.538690567016602,
          1.4818105697631836,
          5.974451065063477,
          5.972273826599121,
          -3.731657028198242,
          0.6269055604934692,
          11.873409271240234,
          13.323114395141602,
          1.9604322910308838,
          12.196026802062988,
          7.081624507904053,
          4.548340320587158,
          4.013251304626465,
          4.983531951904297,
          11.903897285461426,
          11.054218292236328,
          -1.075767159461975,
          6.97487735748291,
          8.705835342407227,
          6.109949111938477,
          -0.4099256992340088,
          6.176105976104736,
          8.17899227142334,
          5.0218305587768555,
          12.589838981628418,
          4.93275785446167,
          9.817288398742676,
          6.135696887969971,
          9.74097728729248,
          15.043932914733887,
          10.965706825256348,
          8.54580307006836,
          10.5493803024292,
          9.57292652130127,
          14.10366439819336,
          3.629101514816284,
          7.433592319488525,
          7.9069719314575195,
          6.348546981811523,
          9.281207084655762,
          10.878586769104004,
          7.267736434936523,
          -1.6838550567626953,
          6.933593273162842,
          3.2117514610290527,
          9.316868782043457,
          12.456934928894043,
          10.150550842285156,
          1.5667645931243896,
          14.246360778808594,
          14.364086151123047,
          6.409271717071533,
          9.703264236450195,
          0.5395317077636719,
          9.282508850097656,
          11.046265602111816,
          2.843759298324585,
          5.013062477111816,
          6.249039649963379,
          7.397923469543457,
          7.8151726722717285,
          0.11053315550088882,
          9.348660469055176,
          6.010257244110107,
          13.117313385009766,
          10.549763679504395,
          -1.8222918510437012,
          4.808888912200928,
          6.582252025604248,
          4.91683292388916,
          4.167133331298828,
          10.641666412353516,
          10.568885803222656,
          13.61893367767334,
          7.153979301452637,
          -1.6727272272109985,
          7.950746536254883,
          2.8273088932037354,
          11.99696159362793,
          8.776741027832031,
          0.8172954320907593,
          14.718056678771973,
          1.2858636379241943,
          8.035099983215332,
          7.233091354370117,
          0.07448361814022064,
          1.440777063369751,
          8.37297534942627,
          9.451347351074219,
          2.3835458755493164,
          7.606222629547119,
          8.872379302978516,
          4.274287700653076,
          3.9271066188812256,
          1.0740259885787964,
          11.573047637939453,
          -3.1616721153259277,
          3.731363296508789,
          12.572324752807617,
          13.153327941894531,
          3.5702576637268066,
          9.293172836303711,
          5.319357395172119,
          8.82526683807373,
          3.932220697402954,
          10.281370162963867,
          11.254034996032715,
          2.9010541439056396,
          5.8906707763671875,
          10.063648223876953,
          3.6518967151641846,
          12.462156295776367,
          -8.116448402404785,
          6.231715679168701,
          6.732280731201172,
          7.806765556335449,
          7.353337287902832,
          9.713212013244629,
          8.327142715454102,
          9.87708568572998,
          3.7925543785095215,
          7.545106887817383,
          -1.3800932168960571,
          -1.4380605220794678,
          10.600196838378906,
          8.704965591430664,
          0.5540211200714111,
          6.427371978759766
         ],
         "xaxis": "x",
         "y": [
          -7.46421480178833,
          -3.7661566734313965,
          -9.018712997436523,
          -10.512490272521973,
          -4.657968521118164,
          -7.940927505493164,
          11.189840316772461,
          -10.346417427062988,
          -2.026772975921631,
          -0.5853716731071472,
          -14.148506164550781,
          -4.75508451461792,
          -2.640907049179077,
          -1.9188637733459473,
          -1.945765733718872,
          2.281773328781128,
          -2.8511269092559814,
          -4.239678382873535,
          -9.480573654174805,
          -11.306811332702637,
          -6.712637424468994,
          -15.328041076660156,
          -11.715314865112305,
          -14.723508834838867,
          -8.146964073181152,
          -0.2926967442035675,
          -1.4693928956985474,
          -3.084871530532837,
          -6.559282302856445,
          -11.94616985321045,
          0.2780562937259674,
          -4.90459680557251,
          -9.041472434997559,
          -10.320355415344238,
          -2.78574538230896,
          0.10460266470909119,
          -2.3964874744415283,
          -12.204105377197266,
          -11.990649223327637,
          -13.079755783081055,
          -0.26967692375183105,
          3.8666248321533203,
          -0.9783441424369812,
          2.7826173305511475,
          -9.660544395446777,
          -8.4104642868042,
          -2.5712153911590576,
          3.6318814754486084,
          -2.383770704269409,
          -11.958683967590332,
          -10.374940872192383,
          2.2379894256591797,
          -0.5431943535804749,
          -10.554905891418457,
          -5.68954610824585,
          -10.203235626220703,
          -2.7016031742095947,
          2.646913766860962,
          -13.64637279510498,
          -7.459494113922119,
          -5.218161106109619,
          -2.005202531814575,
          -3.008368492126465,
          -7.380459785461426,
          -1.5974955558776855,
          -12.014120101928711,
          0.5214348435401917,
          -6.624544620513916,
          -10.280467987060547,
          -13.856959342956543,
          3.273772954940796,
          -12.05894947052002,
          -10.190686225891113,
          -0.3594532907009125,
          1.5278549194335938,
          -7.730405330657959,
          -2.3621435165405273,
          -12.779680252075195,
          -4.709944248199463,
          -12.567981719970703,
          -0.8699334859848022,
          2.3686881065368652,
          -12.229223251342773,
          -4.644529342651367,
          -8.185372352600098,
          0.15365026891231537,
          -13.271474838256836,
          -11.170530319213867,
          -11.977680206298828,
          -5.044609069824219,
          -1.533755898475647,
          -8.405028343200684,
          -5.386112213134766,
          -12.302093505859375,
          -14.648091316223145,
          -4.419084548950195,
          -4.503317832946777,
          -6.320052623748779,
          -4.699985027313232,
          -11.902052879333496,
          -5.554749488830566,
          -1.4375699758529663,
          -5.745441913604736,
          -6.226546287536621,
          -5.16732120513916,
          -8.108574867248535,
          -1.1298573017120361,
          -7.804410457611084,
          -8.781489372253418,
          -10.874565124511719,
          -12.910091400146484,
          -0.6486759781837463,
          -5.677876949310303,
          -0.4719367027282715,
          0.1284649670124054,
          -11.3706636428833,
          -12.130973815917969,
          -13.874631881713867,
          -3.9825356006622314,
          -5.214890003204346,
          -0.00022190017625689507,
          -2.907663583755493,
          -13.613112449645996,
          -6.7208075523376465,
          -11.947504043579102,
          -10.894330024719238,
          -1.767336130142212,
          -1.999135136604309,
          -8.097491264343262,
          -6.394827842712402
         ],
         "yaxis": "y"
        }
       ],
       "layout": {
        "font": {
         "size": 22
        },
        "height": 1024,
        "legend": {
         "title": {
          "text": "color"
         },
         "tracegroupgap": 0
        },
        "margin": {
         "t": 60
        },
        "template": {
         "data": {
          "bar": [
           {
            "error_x": {
             "color": "#2a3f5f"
            },
            "error_y": {
             "color": "#2a3f5f"
            },
            "marker": {
             "line": {
              "color": "#E5ECF6",
              "width": 0.5
             },
             "pattern": {
              "fillmode": "overlay",
              "size": 10,
              "solidity": 0.2
             }
            },
            "type": "bar"
           }
          ],
          "barpolar": [
           {
            "marker": {
             "line": {
              "color": "#E5ECF6",
              "width": 0.5
             },
             "pattern": {
              "fillmode": "overlay",
              "size": 10,
              "solidity": 0.2
             }
            },
            "type": "barpolar"
           }
          ],
          "carpet": [
           {
            "aaxis": {
             "endlinecolor": "#2a3f5f",
             "gridcolor": "white",
             "linecolor": "white",
             "minorgridcolor": "white",
             "startlinecolor": "#2a3f5f"
            },
            "baxis": {
             "endlinecolor": "#2a3f5f",
             "gridcolor": "white",
             "linecolor": "white",
             "minorgridcolor": "white",
             "startlinecolor": "#2a3f5f"
            },
            "type": "carpet"
           }
          ],
          "choropleth": [
           {
            "colorbar": {
             "outlinewidth": 0,
             "ticks": ""
            },
            "type": "choropleth"
           }
          ],
          "contour": [
           {
            "colorbar": {
             "outlinewidth": 0,
             "ticks": ""
            },
            "colorscale": [
             [
              0,
              "#0d0887"
             ],
             [
              0.1111111111111111,
              "#46039f"
             ],
             [
              0.2222222222222222,
              "#7201a8"
             ],
             [
              0.3333333333333333,
              "#9c179e"
             ],
             [
              0.4444444444444444,
              "#bd3786"
             ],
             [
              0.5555555555555556,
              "#d8576b"
             ],
             [
              0.6666666666666666,
              "#ed7953"
             ],
             [
              0.7777777777777778,
              "#fb9f3a"
             ],
             [
              0.8888888888888888,
              "#fdca26"
             ],
             [
              1,
              "#f0f921"
             ]
            ],
            "type": "contour"
           }
          ],
          "contourcarpet": [
           {
            "colorbar": {
             "outlinewidth": 0,
             "ticks": ""
            },
            "type": "contourcarpet"
           }
          ],
          "heatmap": [
           {
            "colorbar": {
             "outlinewidth": 0,
             "ticks": ""
            },
            "colorscale": [
             [
              0,
              "#0d0887"
             ],
             [
              0.1111111111111111,
              "#46039f"
             ],
             [
              0.2222222222222222,
              "#7201a8"
             ],
             [
              0.3333333333333333,
              "#9c179e"
             ],
             [
              0.4444444444444444,
              "#bd3786"
             ],
             [
              0.5555555555555556,
              "#d8576b"
             ],
             [
              0.6666666666666666,
              "#ed7953"
             ],
             [
              0.7777777777777778,
              "#fb9f3a"
             ],
             [
              0.8888888888888888,
              "#fdca26"
             ],
             [
              1,
              "#f0f921"
             ]
            ],
            "type": "heatmap"
           }
          ],
          "heatmapgl": [
           {
            "colorbar": {
             "outlinewidth": 0,
             "ticks": ""
            },
            "colorscale": [
             [
              0,
              "#0d0887"
             ],
             [
              0.1111111111111111,
              "#46039f"
             ],
             [
              0.2222222222222222,
              "#7201a8"
             ],
             [
              0.3333333333333333,
              "#9c179e"
             ],
             [
              0.4444444444444444,
              "#bd3786"
             ],
             [
              0.5555555555555556,
              "#d8576b"
             ],
             [
              0.6666666666666666,
              "#ed7953"
             ],
             [
              0.7777777777777778,
              "#fb9f3a"
             ],
             [
              0.8888888888888888,
              "#fdca26"
             ],
             [
              1,
              "#f0f921"
             ]
            ],
            "type": "heatmapgl"
           }
          ],
          "histogram": [
           {
            "marker": {
             "pattern": {
              "fillmode": "overlay",
              "size": 10,
              "solidity": 0.2
             }
            },
            "type": "histogram"
           }
          ],
          "histogram2d": [
           {
            "colorbar": {
             "outlinewidth": 0,
             "ticks": ""
            },
            "colorscale": [
             [
              0,
              "#0d0887"
             ],
             [
              0.1111111111111111,
              "#46039f"
             ],
             [
              0.2222222222222222,
              "#7201a8"
             ],
             [
              0.3333333333333333,
              "#9c179e"
             ],
             [
              0.4444444444444444,
              "#bd3786"
             ],
             [
              0.5555555555555556,
              "#d8576b"
             ],
             [
              0.6666666666666666,
              "#ed7953"
             ],
             [
              0.7777777777777778,
              "#fb9f3a"
             ],
             [
              0.8888888888888888,
              "#fdca26"
             ],
             [
              1,
              "#f0f921"
             ]
            ],
            "type": "histogram2d"
           }
          ],
          "histogram2dcontour": [
           {
            "colorbar": {
             "outlinewidth": 0,
             "ticks": ""
            },
            "colorscale": [
             [
              0,
              "#0d0887"
             ],
             [
              0.1111111111111111,
              "#46039f"
             ],
             [
              0.2222222222222222,
              "#7201a8"
             ],
             [
              0.3333333333333333,
              "#9c179e"
             ],
             [
              0.4444444444444444,
              "#bd3786"
             ],
             [
              0.5555555555555556,
              "#d8576b"
             ],
             [
              0.6666666666666666,
              "#ed7953"
             ],
             [
              0.7777777777777778,
              "#fb9f3a"
             ],
             [
              0.8888888888888888,
              "#fdca26"
             ],
             [
              1,
              "#f0f921"
             ]
            ],
            "type": "histogram2dcontour"
           }
          ],
          "mesh3d": [
           {
            "colorbar": {
             "outlinewidth": 0,
             "ticks": ""
            },
            "type": "mesh3d"
           }
          ],
          "parcoords": [
           {
            "line": {
             "colorbar": {
              "outlinewidth": 0,
              "ticks": ""
             }
            },
            "type": "parcoords"
           }
          ],
          "pie": [
           {
            "automargin": true,
            "type": "pie"
           }
          ],
          "scatter": [
           {
            "fillpattern": {
             "fillmode": "overlay",
             "size": 10,
             "solidity": 0.2
            },
            "type": "scatter"
           }
          ],
          "scatter3d": [
           {
            "line": {
             "colorbar": {
              "outlinewidth": 0,
              "ticks": ""
             }
            },
            "marker": {
             "colorbar": {
              "outlinewidth": 0,
              "ticks": ""
             }
            },
            "type": "scatter3d"
           }
          ],
          "scattercarpet": [
           {
            "marker": {
             "colorbar": {
              "outlinewidth": 0,
              "ticks": ""
             }
            },
            "type": "scattercarpet"
           }
          ],
          "scattergeo": [
           {
            "marker": {
             "colorbar": {
              "outlinewidth": 0,
              "ticks": ""
             }
            },
            "type": "scattergeo"
           }
          ],
          "scattergl": [
           {
            "marker": {
             "colorbar": {
              "outlinewidth": 0,
              "ticks": ""
             }
            },
            "type": "scattergl"
           }
          ],
          "scattermapbox": [
           {
            "marker": {
             "colorbar": {
              "outlinewidth": 0,
              "ticks": ""
             }
            },
            "type": "scattermapbox"
           }
          ],
          "scatterpolar": [
           {
            "marker": {
             "colorbar": {
              "outlinewidth": 0,
              "ticks": ""
             }
            },
            "type": "scatterpolar"
           }
          ],
          "scatterpolargl": [
           {
            "marker": {
             "colorbar": {
              "outlinewidth": 0,
              "ticks": ""
             }
            },
            "type": "scatterpolargl"
           }
          ],
          "scatterternary": [
           {
            "marker": {
             "colorbar": {
              "outlinewidth": 0,
              "ticks": ""
             }
            },
            "type": "scatterternary"
           }
          ],
          "surface": [
           {
            "colorbar": {
             "outlinewidth": 0,
             "ticks": ""
            },
            "colorscale": [
             [
              0,
              "#0d0887"
             ],
             [
              0.1111111111111111,
              "#46039f"
             ],
             [
              0.2222222222222222,
              "#7201a8"
             ],
             [
              0.3333333333333333,
              "#9c179e"
             ],
             [
              0.4444444444444444,
              "#bd3786"
             ],
             [
              0.5555555555555556,
              "#d8576b"
             ],
             [
              0.6666666666666666,
              "#ed7953"
             ],
             [
              0.7777777777777778,
              "#fb9f3a"
             ],
             [
              0.8888888888888888,
              "#fdca26"
             ],
             [
              1,
              "#f0f921"
             ]
            ],
            "type": "surface"
           }
          ],
          "table": [
           {
            "cells": {
             "fill": {
              "color": "#EBF0F8"
             },
             "line": {
              "color": "white"
             }
            },
            "header": {
             "fill": {
              "color": "#C8D4E3"
             },
             "line": {
              "color": "white"
             }
            },
            "type": "table"
           }
          ]
         },
         "layout": {
          "annotationdefaults": {
           "arrowcolor": "#2a3f5f",
           "arrowhead": 0,
           "arrowwidth": 1
          },
          "autotypenumbers": "strict",
          "coloraxis": {
           "colorbar": {
            "outlinewidth": 0,
            "ticks": ""
           }
          },
          "colorscale": {
           "diverging": [
            [
             0,
             "#8e0152"
            ],
            [
             0.1,
             "#c51b7d"
            ],
            [
             0.2,
             "#de77ae"
            ],
            [
             0.3,
             "#f1b6da"
            ],
            [
             0.4,
             "#fde0ef"
            ],
            [
             0.5,
             "#f7f7f7"
            ],
            [
             0.6,
             "#e6f5d0"
            ],
            [
             0.7,
             "#b8e186"
            ],
            [
             0.8,
             "#7fbc41"
            ],
            [
             0.9,
             "#4d9221"
            ],
            [
             1,
             "#276419"
            ]
           ],
           "sequential": [
            [
             0,
             "#0d0887"
            ],
            [
             0.1111111111111111,
             "#46039f"
            ],
            [
             0.2222222222222222,
             "#7201a8"
            ],
            [
             0.3333333333333333,
             "#9c179e"
            ],
            [
             0.4444444444444444,
             "#bd3786"
            ],
            [
             0.5555555555555556,
             "#d8576b"
            ],
            [
             0.6666666666666666,
             "#ed7953"
            ],
            [
             0.7777777777777778,
             "#fb9f3a"
            ],
            [
             0.8888888888888888,
             "#fdca26"
            ],
            [
             1,
             "#f0f921"
            ]
           ],
           "sequentialminus": [
            [
             0,
             "#0d0887"
            ],
            [
             0.1111111111111111,
             "#46039f"
            ],
            [
             0.2222222222222222,
             "#7201a8"
            ],
            [
             0.3333333333333333,
             "#9c179e"
            ],
            [
             0.4444444444444444,
             "#bd3786"
            ],
            [
             0.5555555555555556,
             "#d8576b"
            ],
            [
             0.6666666666666666,
             "#ed7953"
            ],
            [
             0.7777777777777778,
             "#fb9f3a"
            ],
            [
             0.8888888888888888,
             "#fdca26"
            ],
            [
             1,
             "#f0f921"
            ]
           ]
          },
          "colorway": [
           "#636efa",
           "#EF553B",
           "#00cc96",
           "#ab63fa",
           "#FFA15A",
           "#19d3f3",
           "#FF6692",
           "#B6E880",
           "#FF97FF",
           "#FECB52"
          ],
          "font": {
           "color": "#2a3f5f"
          },
          "geo": {
           "bgcolor": "white",
           "lakecolor": "white",
           "landcolor": "#E5ECF6",
           "showlakes": true,
           "showland": true,
           "subunitcolor": "white"
          },
          "hoverlabel": {
           "align": "left"
          },
          "hovermode": "closest",
          "mapbox": {
           "style": "light"
          },
          "paper_bgcolor": "white",
          "plot_bgcolor": "#E5ECF6",
          "polar": {
           "angularaxis": {
            "gridcolor": "white",
            "linecolor": "white",
            "ticks": ""
           },
           "bgcolor": "#E5ECF6",
           "radialaxis": {
            "gridcolor": "white",
            "linecolor": "white",
            "ticks": ""
           }
          },
          "scene": {
           "xaxis": {
            "backgroundcolor": "#E5ECF6",
            "gridcolor": "white",
            "gridwidth": 2,
            "linecolor": "white",
            "showbackground": true,
            "ticks": "",
            "zerolinecolor": "white"
           },
           "yaxis": {
            "backgroundcolor": "#E5ECF6",
            "gridcolor": "white",
            "gridwidth": 2,
            "linecolor": "white",
            "showbackground": true,
            "ticks": "",
            "zerolinecolor": "white"
           },
           "zaxis": {
            "backgroundcolor": "#E5ECF6",
            "gridcolor": "white",
            "gridwidth": 2,
            "linecolor": "white",
            "showbackground": true,
            "ticks": "",
            "zerolinecolor": "white"
           }
          },
          "shapedefaults": {
           "line": {
            "color": "#2a3f5f"
           }
          },
          "ternary": {
           "aaxis": {
            "gridcolor": "white",
            "linecolor": "white",
            "ticks": ""
           },
           "baxis": {
            "gridcolor": "white",
            "linecolor": "white",
            "ticks": ""
           },
           "bgcolor": "#E5ECF6",
           "caxis": {
            "gridcolor": "white",
            "linecolor": "white",
            "ticks": ""
           }
          },
          "title": {
           "x": 0.05
          },
          "xaxis": {
           "automargin": true,
           "gridcolor": "white",
           "linecolor": "white",
           "ticks": "",
           "title": {
            "standoff": 15
           },
           "zerolinecolor": "white",
           "zerolinewidth": 2
          },
          "yaxis": {
           "automargin": true,
           "gridcolor": "white",
           "linecolor": "white",
           "ticks": "",
           "title": {
            "standoff": 15
           },
           "zerolinecolor": "white",
           "zerolinewidth": 2
          }
         }
        },
        "width": 1024,
        "xaxis": {
         "anchor": "y",
         "domain": [
          0,
          1
         ],
         "title": {
          "text": "Component 1"
         }
        },
        "yaxis": {
         "anchor": "x",
         "domain": [
          0,
          1
         ],
         "title": {
          "text": "Component 2"
         }
        }
       }
      }
     },
     "metadata": {},
     "output_type": "display_data"
    }
   ],
   "source": [
    "x = np.concatenate((np.array(imgs_out), np.array(n_imgs_out)), axis=0)\n",
    "y = np.concatenate((np.ones(len(imgs_out)), np.zeros(len(n_imgs_out))), axis=0)\n",
    "\n",
    "tsne = TSNE(n_components=2, verbose=1, random_state=123, learning_rate='auto')\n",
    "z = tsne.fit_transform(x) \n",
    "df = pd.DataFrame()\n",
    "df[\"y\"] = y\n",
    "df[\"component_1\"] = z[:,0]\n",
    "df[\"component_2\"] = z[:,1]\n",
    "label_str = []\n",
    "for l in df.y.tolist():\n",
    "    if l == 1:\n",
    "        label_str.append('0')\n",
    "    else:\n",
    "        label_str.append('1')\n",
    "\n",
    "fig = px.scatter(data_frame=df, x=\"component_1\", y=\"component_2\", color=label_str,\n",
    "           labels={\n",
    "                     \"component_1\": \"Component 1\",\n",
    "                     \"component_2\": \"Component 2\",\n",
    "                 },\n",
    "            # title=\"\",\n",
    "            width=1024, height=1024)\n",
    "\n",
    "fig.update_layout(\n",
    "    font=dict(\n",
    "        size=22,  # Set the font size here\n",
    "    )\n",
    ")\n",
    "fig.show()\n",
    "# fig.write_image(original_path+prefix_path+config_path+\"{}_vs_{}_tsne.png\".format(class1, class2))"
   ]
  },
  {
   "cell_type": "markdown",
   "metadata": {},
   "source": [
    "# TSNE-plot"
   ]
  },
  {
   "cell_type": "code",
   "execution_count": 1,
   "metadata": {},
   "outputs": [
    {
     "name": "stderr",
     "output_type": "stream",
     "text": [
      "C:\\Users\\Mohammad\\AppData\\Roaming\\Python\\Python312\\site-packages\\torchvision\\models\\_utils.py:135: UserWarning: Using 'weights' as positional parameter(s) is deprecated since 0.13 and may be removed in the future. Please use keyword parameter(s) instead.\n",
      "  warnings.warn(\n"
     ]
    }
   ],
   "source": [
    "import torch\n",
    "import torchvision\n",
    "import numpy as np\n",
    "import torch.nn as nn\n",
    "from PIL import Image\n",
    "import matplotlib.pyplot as plt\n",
    "import json\n",
    "import argparse\n",
    "\n",
    "from torchvision.models import wide_resnet50_2\n",
    "from models.resnet import ResNet18\n",
    "from torchvision.transforms import transforms\n",
    "from dataset_loader import noise_loader, load_cifar10, load_svhn, load_cifar100, load_imagenet, load_mvtec_ad, load_visa\n",
    "from torch.utils.data.dataset import Subset\n",
    "import PIL\n",
    "class load_np_dataset(torch.utils.data.Dataset):\n",
    "    def __init__(self, imgs_path, targets_path, transform, dataset):\n",
    "        self.dataset = dataset\n",
    "        self.data = np.load(imgs_path)\n",
    "        self.targets = np.load(targets_path)\n",
    "\n",
    "        self.transform = transform\n",
    "        \n",
    "    def __len__(self):\n",
    "        return len(self.data)\n",
    "\n",
    "    def __getitem__(self, idx):\n",
    "        img , target = self.data[idx], self.targets[idx]\n",
    "            \n",
    "        img = PIL.Image.fromarray(img)\n",
    "        img = self.transform(img)\n",
    "\n",
    "        return img, target\n",
    "\n",
    "\n",
    "def get_subclass_dataset(dataset, classes):\n",
    "    if not isinstance(classes, list):\n",
    "        classes = [classes]\n",
    "\n",
    "    indices = []\n",
    "    for idx, tgt in enumerate(dataset.targets):\n",
    "        if tgt in classes:\n",
    "            indices.append(idx)\n",
    "\n",
    "    dataset = Subset(dataset, indices)\n",
    "    return dataset\n",
    "\n",
    "\n",
    "\n",
    "\n",
    "def loading_datasets(args, data_path, imagenet_path, transform):\n",
    "    if args.dataset == 'cifar10':\n",
    "        args.num_classes = 10\n",
    "        train_loader, test_loader = load_cifar10(data_path,\n",
    "                                            transforms=transform,\n",
    "                                            batch_size=args.batch_size,\n",
    "                                            one_class_idx=args.one_class_idx,\n",
    "                                            seed=args.seed)\n",
    "    elif args.dataset == 'svhn':\n",
    "        args.num_classes = 10\n",
    "        train_loader, test_loader = load_svhn(data_path, \n",
    "                                            transforms=transform,\n",
    "                                            batch_size=args.batch_size,\n",
    "                                            one_class_idx=args.one_class_idx,\n",
    "                                            seed=args.seed)\n",
    "    elif args.dataset == 'cifar100':\n",
    "        args.num_classes = 20\n",
    "        train_loader, test_loader = load_cifar100(data_path, \n",
    "                                                transforms=transform,\n",
    "                                                batch_size=args.batch_size,\n",
    "                                                one_class_idx=args.one_class_idx,\n",
    "                                                seed=args.seed)\n",
    "    elif args.dataset == 'imagenet30':\n",
    "        args.num_classes = 30\n",
    "        train_loader, test_loader = load_imagenet(imagenet_path, \n",
    "                                                transforms=transform,\n",
    "                                                batch_size=args.batch_size,\n",
    "                                                one_class_idx=args.one_class_idx,\n",
    "                                                seed=args.seed)\n",
    "    elif args.dataset == 'mvtec_ad':\n",
    "        args.num_classes = 15\n",
    "        train_loader, test_loader = load_mvtec_ad(data_path, \n",
    "                                                transforms=transform,\n",
    "                                                resize=args.img_size,\n",
    "                                                batch_size=args.batch_size,\n",
    "                                                one_class_idx=args.one_class_idx,\n",
    "                                                seed=args.seed)\n",
    "\n",
    "    elif args.dataset == 'visa':\n",
    "        args.num_classes = 12\n",
    "        train_loader, test_loader = load_visa(data_path, \n",
    "                                            transforms=transform,\n",
    "                                            resize=args.img_size,\n",
    "                                            batch_size=args.batch_size,\n",
    "                                            one_class_idx=args.one_class_idx,\n",
    "                                            seed=args.seed)\n",
    "    \n",
    "    print(\"Start Loading noises\")\n",
    "    train_positives_loader, train_negetives_loader,\\\n",
    "    test_positives_loader, test_negetives_loader = noise_loader(\n",
    "                    args,\n",
    "                    transform=transform,\n",
    "                    batch_size=args.batch_size,\n",
    "                    one_class_idx=args.one_class_idx,\n",
    "                    resize=args.img_size,\n",
    "                    dataset=args.dataset,\n",
    "                    preprocessing=args.preprocessing, \n",
    "                    k_pairs=args.k_pairs,\n",
    "                    seed=args.seed)\n",
    "    print(\"Loading noises finished!\")\n",
    "\n",
    "    return train_loader, test_loader, train_positives_loader, train_negetives_loader, test_positives_loader, test_negetives_loader\n",
    "\n",
    "\n",
    "def parsing():\n",
    "    parser = argparse.ArgumentParser(description='',\n",
    "                                    formatter_class=argparse.ArgumentDefaultsHelpFormatter)\n",
    "    parser.add_argument('--dataset', default='cifar10', type=str, help='cifar10-cifar100-svhn')\n",
    "    parser.add_argument('--one_class_idx', default=None, type=int, help='select one class index')\n",
    "    parser.add_argument('--config', default=None, help='Config file for reading paths')\n",
    "    parser.add_argument('--batch_size', '-b', type=int, default=1, help='Batch size.')\n",
    "    parser.add_argument('--seed', type=int, default=1, help='1')\n",
    "    parser.add_argument('--img_size', default=32, type=int, help='image size selection')\n",
    "    parser.add_argument('--preprocessing', default='clip', type=str, help='which preprocessing use for noise order')\n",
    "    parser.add_argument('--k_pairs', default=1, type=int, help='Selecting multiple pairs for contrastive loss')\n",
    "    parser.add_argument('--device', type=str, default=\"cuda\", help='cuda or cpu.')\n",
    "    args = parser.parse_args()\n",
    "\n",
    "    return args\n",
    "\n",
    "\n",
    "\n",
    "\n",
    "\n",
    "import sys\n",
    "sys.argv = [\"\", \"--one_class_idx\", \"0\", \"--dataset\", \"cifar10\", \"--batch_size\", \"1\"]\n",
    "\n",
    "with open('config.json', 'r') as config_file:\n",
    "    config = json.load(config_file)\n",
    "\n",
    "\n",
    "\n",
    "root_path = config['root_path']\n",
    "data_path = config['data_path']\n",
    "imagenet_path = config['imagenet_path']\n",
    "args = parsing()\n",
    "args.config = config\n",
    "\n",
    "\n",
    "model = wide_resnet50_2(\"IMAGENET1K_V2\")\n",
    "transform = torchvision.transforms.Compose([torchvision.transforms.ToTensor(),\n",
    "                                            torchvision.transforms.Resize(256),\n",
    "                                            torchvision.transforms.CenterCrop(224)])\n",
    "\n",
    "# Recursive function to register hooks for all layers, including nested ones\n",
    "def register_hooks(model, feature_maps):\n",
    "    hook_handles = []\n",
    "\n",
    "    def hook_fn(module, input, output, layer_name):\n",
    "        feature_maps[layer_name] = output\n",
    "\n",
    "    def recursive_hook_register(module, parent_name=\"\"):\n",
    "        for name, sub_module in module.named_children():\n",
    "            full_name = f\"{parent_name}.{name}\" if parent_name else name\n",
    "            handle = sub_module.register_forward_hook(\n",
    "                lambda module, input, output, name=full_name: hook_fn(module, input, output, name)\n",
    "            )\n",
    "            hook_handles.append(handle)\n",
    "            # Recursively register hooks for nested layers\n",
    "            recursive_hook_register(sub_module, full_name)\n",
    "\n",
    "    recursive_hook_register(model)\n",
    "    return hook_handles\n",
    "\n",
    "\n",
    "# Forward pass and capture feature maps\n",
    "def get_all_feature_maps(model, img_tensor):\n",
    "    feature_maps = {}\n",
    "    hook_handles = register_hooks(model, feature_maps)\n",
    "\n",
    "    # Forward pass\n",
    "    model(img_tensor)\n",
    "\n",
    "    # Remove hooks\n",
    "    for handle in hook_handles:\n",
    "        handle.remove()\n",
    "\n",
    "    return feature_maps"
   ]
  },
  {
   "cell_type": "code",
   "execution_count": null,
   "metadata": {},
   "outputs": [
    {
     "name": "stdout",
     "output_type": "stream",
     "text": [
      "loading cifar10\n",
      "Files already downloaded and verified\n",
      "Files already downloaded and verified\n",
      "Start Loading noises\n",
      "Creating noises loader\n",
      "Selecting flip as positive pair for class 0\n",
      "Selecting glass_blur as negetive pair for class 0\n",
      "Loading noises finished!\n",
      "[t-SNE] Computing 91 nearest neighbors...\n",
      "[t-SNE] Indexed 260 samples in 0.001s...\n",
      "[t-SNE] Computed neighbors for 260 samples in 0.180s...\n",
      "[t-SNE] Computed conditional probabilities for sample 260 / 260\n",
      "[t-SNE] Mean sigma: 5.946383\n",
      "[t-SNE] KL divergence after 250 iterations with early exaggeration: 54.628933\n",
      "[t-SNE] KL divergence after 1000 iterations: 0.456446\n"
     ]
    }
   ],
   "source": [
    "import pickle \n",
    "from sklearn.manifold import TSNE\n",
    "import pandas as pd\n",
    "import plotly.express as px \n",
    "with open(f'./ranks/clip/{args.dataset}/wasser_dist_softmaxed.pkl', 'rb') as file:\n",
    "    probs = pickle.load(file)    \n",
    "\n",
    "train_loader, test_loader, train_positives_loader, train_negetives_loader,\\\n",
    "    test_positives_loader, test_negetives_loader = loading_datasets(args, data_path, imagenet_path, transform=transform)\n",
    "\n",
    "\n",
    "\n",
    "import os\n",
    "from torch.utils.data import DataLoader\n",
    "np_train_target_path = os.path.join(args.config['generalization_path'], f'{args.dataset}_Train_s1/labels.npy')\n",
    "np_test_target_path = os.path.join(args.config['generalization_path'], f'{args.dataset}_Test_s5/labels.npy')\n",
    "np_train_root_path = os.path.join(args.config['generalization_path'], f'{args.dataset}_Train_s1')\n",
    "np_test_root_path = os.path.join(args.config['generalization_path'], f'{args.dataset}_Test_s5')\n",
    "\n",
    "for noise in probs[args.one_class_idx]:\n",
    "    np_test_img_path = os.path.join(np_test_root_path, noise + '.npy')\n",
    "    np_train_img_path = os.path.join(np_train_root_path, noise + '.npy')\n",
    "    train_positives_datasets = load_np_dataset(np_train_img_path, np_train_target_path, transform, None) \n",
    "    train_positives_datasets = get_subclass_dataset(train_positives_datasets, args.one_class_idx)\n",
    "    gn = torch.Generator().manual_seed(args.seed)\n",
    "    train_positives_loader = DataLoader(train_positives_datasets, shuffle=True, generator=gn, batch_size=args.batch_size)\n",
    "\n",
    "    imgs_out = []\n",
    "    aug_imgs_out = []\n",
    "    model = model.to(args.device)\n",
    "    model.eval()\n",
    "\n",
    "    iter = 0\n",
    "    for (normal, p_data) in zip(train_loader, train_positives_loader):\n",
    "        imgs, labels = normal\n",
    "        p_imgs, p_label = p_data\n",
    "        assert torch.equal(torch.squeeze(labels), torch.squeeze(p_label)), f\"The labels of positives images do not match to noraml images, {torch.squeeze(labels)}, {torch.squeeze(p_label)}\"\n",
    "        imgs, labels = imgs.to(args.device), labels.to(args.device)\n",
    "        p_imgs = p_imgs.to(args.device)\n",
    "\n",
    "        # imgs.requires_grad = True\n",
    "        # p_imgs.requires_grad = True\n",
    "\n",
    "        # imgs_out = model.encode_image(imgs)\n",
    "        # p_imgs_out = model.encode_image(p_imgs)\n",
    "        # n_imgs_out = model.encode_image(n_imgs)\n",
    "\n",
    "        # imgs_out.append(model.encode_image(imgs))\n",
    "        # p_imgs_out.append(model.encode_image(p_imgs))\n",
    "        # n_imgs_out.append(model.encode_image(n_imgs))\n",
    "\n",
    "        # imgs_out = model(imgs)\n",
    "        # p_imgs_out = model(p_imgs)\n",
    "        # n_imgs_out = model(n_imgs)\n",
    "\n",
    "        imgs_out.append(get_all_feature_maps(model, imgs)['avgpool'].view(-1, 2048).cpu().detach().numpy()[0])\n",
    "        aug_imgs_out.append(get_all_feature_maps(model, p_imgs)['avgpool'].view(-1, 2048).cpu().detach().numpy()[0])\n",
    "        if iter > 128:\n",
    "            break\n",
    "        iter += 1\n",
    "\n",
    "\n",
    "\n",
    "    x = np.concatenate((np.array(imgs_out), np.array(aug_imgs_out)), axis=0)\n",
    "    y = np.concatenate((np.ones(len(imgs_out)), np.zeros(len(aug_imgs_out))), axis=0)\n",
    "\n",
    "    tsne = TSNE(n_components=2, verbose=1, random_state=123, learning_rate='auto')\n",
    "    z = tsne.fit_transform(x) \n",
    "    df = pd.DataFrame()\n",
    "    df[\"y\"] = y\n",
    "    df[\"component_1\"] = z[:,0]\n",
    "    df[\"component_2\"] = z[:,1]\n",
    "    label_str = []\n",
    "    for l in df.y.tolist():\n",
    "        if l == 1:\n",
    "            label_str.append('0')\n",
    "        else:\n",
    "            label_str.append('1')\n",
    "\n",
    "    fig = px.scatter(data_frame=df, x=\"component_1\", y=\"component_2\", color=label_str,\n",
    "            labels={\n",
    "                        \"component_1\": \"Component 1\",\n",
    "                        \"component_2\": \"Component 2\",\n",
    "                    },\n",
    "                title=f\"Class {args.one_class_idx} normal vs {noise}\",\n",
    "                width=1024, height=1024)\n",
    "\n",
    "    fig.update_layout(\n",
    "        font=dict(\n",
    "            size=22,  # Set the font size here\n",
    "        )\n",
    "    )\n",
    "    # fig.show()\n",
    "    fig.write_image(\"class_{}_normal_vs_{}_tsne.png\".format(args.one_class_idx, noise))"
   ]
  },
  {
   "cell_type": "markdown",
   "metadata": {},
   "source": [
    "# GMSD"
   ]
  },
  {
   "cell_type": "code",
   "execution_count": 38,
   "metadata": {},
   "outputs": [
    {
     "name": "stdout",
     "output_type": "stream",
     "text": [
      "loading cifar10\n",
      "Files already downloaded and verified\n",
      "Files already downloaded and verified\n",
      "Start Loading noises\n",
      "Creating noises loader\n",
      "Selecting flip as positive pair for class 1\n",
      "Selecting glass_blur as negetive pair for class 1\n",
      "Loading noises finished!\n"
     ]
    }
   ],
   "source": [
    "import torch\n",
    "import torchvision\n",
    "import numpy as np\n",
    "import torch.nn as nn\n",
    "from PIL import Image\n",
    "import matplotlib.pyplot as plt\n",
    "import json\n",
    "import argparse\n",
    "\n",
    "from torchvision.models import wide_resnet50_2\n",
    "from models.resnet import ResNet18\n",
    "from torchvision.transforms import transforms\n",
    "from dataset_loader import noise_loader, load_cifar10, load_svhn, load_cifar100, load_imagenet, load_mvtec_ad, load_visa\n",
    "from torch.utils.data.dataset import Subset\n",
    "import PIL\n",
    "class load_np_dataset(torch.utils.data.Dataset):\n",
    "    def __init__(self, imgs_path, targets_path, transform, dataset):\n",
    "        self.dataset = dataset\n",
    "        self.data = np.load(imgs_path)\n",
    "        self.targets = np.load(targets_path)\n",
    "\n",
    "        self.transform = transform\n",
    "        \n",
    "    def __len__(self):\n",
    "        return len(self.data)\n",
    "\n",
    "    def __getitem__(self, idx):\n",
    "        img , target = self.data[idx], self.targets[idx]\n",
    "            \n",
    "        img = PIL.Image.fromarray(img)\n",
    "        img = self.transform(img)\n",
    "\n",
    "        return img, target\n",
    "\n",
    "\n",
    "def get_subclass_dataset(dataset, classes):\n",
    "    if not isinstance(classes, list):\n",
    "        classes = [classes]\n",
    "\n",
    "    indices = []\n",
    "    for idx, tgt in enumerate(dataset.targets):\n",
    "        if tgt in classes:\n",
    "            indices.append(idx)\n",
    "\n",
    "    dataset = Subset(dataset, indices)\n",
    "    return dataset\n",
    "\n",
    "\n",
    "\n",
    "\n",
    "def loading_datasets(args, data_path, imagenet_path, transform):\n",
    "    if args.dataset == 'cifar10':\n",
    "        args.num_classes = 10\n",
    "        train_loader, test_loader = load_cifar10(data_path,\n",
    "                                            transforms=transform,\n",
    "                                            batch_size=args.batch_size,\n",
    "                                            one_class_idx=args.one_class_idx,\n",
    "                                            seed=args.seed)\n",
    "    elif args.dataset == 'svhn':\n",
    "        args.num_classes = 10\n",
    "        train_loader, test_loader = load_svhn(data_path, \n",
    "                                            transforms=transform,\n",
    "                                            batch_size=args.batch_size,\n",
    "                                            one_class_idx=args.one_class_idx,\n",
    "                                            seed=args.seed)\n",
    "    elif args.dataset == 'cifar100':\n",
    "        args.num_classes = 20\n",
    "        train_loader, test_loader = load_cifar100(data_path, \n",
    "                                                transforms=transform,\n",
    "                                                batch_size=args.batch_size,\n",
    "                                                one_class_idx=args.one_class_idx,\n",
    "                                                seed=args.seed)\n",
    "    elif args.dataset == 'imagenet30':\n",
    "        args.num_classes = 30\n",
    "        train_loader, test_loader = load_imagenet(imagenet_path, \n",
    "                                                transforms=transform,\n",
    "                                                batch_size=args.batch_size,\n",
    "                                                one_class_idx=args.one_class_idx,\n",
    "                                                seed=args.seed)\n",
    "    elif args.dataset == 'mvtec_ad':\n",
    "        args.num_classes = 15\n",
    "        train_loader, test_loader = load_mvtec_ad(data_path, \n",
    "                                                transforms=transform,\n",
    "                                                resize=args.img_size,\n",
    "                                                batch_size=args.batch_size,\n",
    "                                                one_class_idx=args.one_class_idx,\n",
    "                                                seed=args.seed)\n",
    "\n",
    "    elif args.dataset == 'visa':\n",
    "        args.num_classes = 12\n",
    "        train_loader, test_loader = load_visa(data_path, \n",
    "                                            transforms=transform,\n",
    "                                            resize=args.img_size,\n",
    "                                            batch_size=args.batch_size,\n",
    "                                            one_class_idx=args.one_class_idx,\n",
    "                                            seed=args.seed)\n",
    "    \n",
    "    print(\"Start Loading noises\")\n",
    "    train_positives_loader, train_negetives_loader,\\\n",
    "    test_positives_loader, test_negetives_loader = noise_loader(\n",
    "                    args,\n",
    "                    transform=transform,\n",
    "                    batch_size=args.batch_size,\n",
    "                    one_class_idx=args.one_class_idx,\n",
    "                    resize=args.img_size,\n",
    "                    dataset=args.dataset,\n",
    "                    preprocessing=args.preprocessing, \n",
    "                    k_pairs=args.k_pairs,\n",
    "                    seed=args.seed)\n",
    "    print(\"Loading noises finished!\")\n",
    "\n",
    "    return train_loader, test_loader, train_positives_loader, train_negetives_loader, test_positives_loader, test_negetives_loader\n",
    "\n",
    "\n",
    "def parsing():\n",
    "    parser = argparse.ArgumentParser(description='',\n",
    "                                    formatter_class=argparse.ArgumentDefaultsHelpFormatter)\n",
    "    parser.add_argument('--dataset', default='cifar10', type=str, help='cifar10-cifar100-svhn')\n",
    "    parser.add_argument('--one_class_idx', default=None, type=int, help='select one class index')\n",
    "    parser.add_argument('--config', default=None, help='Config file for reading paths')\n",
    "    parser.add_argument('--batch_size', '-b', type=int, default=1, help='Batch size.')\n",
    "    parser.add_argument('--seed', type=int, default=1, help='1')\n",
    "    parser.add_argument('--img_size', default=32, type=int, help='image size selection')\n",
    "    parser.add_argument('--preprocessing', default='clip', type=str, help='which preprocessing use for noise order')\n",
    "    parser.add_argument('--k_pairs', default=1, type=int, help='Selecting multiple pairs for contrastive loss')\n",
    "    parser.add_argument('--device', type=str, default=\"cuda\", help='cuda or cpu.')\n",
    "    args = parser.parse_args()\n",
    "\n",
    "    return args\n",
    "\n",
    "\n",
    "\n",
    "\n",
    "\n",
    "import sys\n",
    "sys.argv = [\"\", \"--one_class_idx\", \"1\", \"--dataset\", \"cifar10\", \"--batch_size\", \"16\"]\n",
    "\n",
    "with open('config.json', 'r') as config_file:\n",
    "    config = json.load(config_file)\n",
    "\n",
    "\n",
    "\n",
    "root_path = config['root_path']\n",
    "data_path = config['data_path']\n",
    "imagenet_path = config['imagenet_path']\n",
    "args = parsing()\n",
    "args.config = config\n",
    "\n",
    "\n",
    "model = wide_resnet50_2(\"IMAGENET1K_V2\")\n",
    "transform = torchvision.transforms.Compose([torchvision.transforms.ToTensor(),\n",
    "                                            torchvision.transforms.Resize(256),\n",
    "                                            torchvision.transforms.CenterCrop(224)])\n",
    "\n",
    "# Recursive function to register hooks for all layers, including nested ones\n",
    "def register_hooks(model, feature_maps):\n",
    "    hook_handles = []\n",
    "\n",
    "    def hook_fn(module, input, output, layer_name):\n",
    "        feature_maps[layer_name] = output\n",
    "\n",
    "    def recursive_hook_register(module, parent_name=\"\"):\n",
    "        for name, sub_module in module.named_children():\n",
    "            full_name = f\"{parent_name}.{name}\" if parent_name else name\n",
    "            handle = sub_module.register_forward_hook(\n",
    "                lambda module, input, output, name=full_name: hook_fn(module, input, output, name)\n",
    "            )\n",
    "            hook_handles.append(handle)\n",
    "            # Recursively register hooks for nested layers\n",
    "            recursive_hook_register(sub_module, full_name)\n",
    "\n",
    "    recursive_hook_register(model)\n",
    "    return hook_handles\n",
    "\n",
    "\n",
    "# Forward pass and capture feature maps\n",
    "def get_all_feature_maps(model, img_tensor):\n",
    "    feature_maps = {}\n",
    "    hook_handles = register_hooks(model, feature_maps)\n",
    "\n",
    "    # Forward pass\n",
    "    model(img_tensor)\n",
    "\n",
    "    # Remove hooks\n",
    "    for handle in hook_handles:\n",
    "        handle.remove()\n",
    "\n",
    "    return feature_maps\n",
    "\n",
    "import pickle \n",
    "from sklearn.manifold import TSNE\n",
    "import pandas as pd\n",
    "import plotly.express as px \n",
    "with open(f'./ranks/clip/{args.dataset}/wasser_dist_softmaxed.pkl', 'rb') as file:\n",
    "    probs = pickle.load(file)    \n",
    "\n",
    "train_loader, test_loader, train_positives_loader, train_negetives_loader,\\\n",
    "    test_positives_loader, test_negetives_loader = loading_datasets(args, data_path, imagenet_path, transform=transform)\n",
    "\n",
    "\n",
    "noise = 'rot90'\n",
    "import os\n",
    "from torch.utils.data import DataLoader\n",
    "np_train_target_path = os.path.join(args.config['generalization_path'], f'{args.dataset}_Train_s1/labels.npy')\n",
    "np_test_target_path = os.path.join(args.config['generalization_path'], f'{args.dataset}_Test_s5/labels.npy')\n",
    "np_train_root_path = os.path.join(args.config['generalization_path'], f'{args.dataset}_Train_s1')\n",
    "np_test_root_path = os.path.join(args.config['generalization_path'], f'{args.dataset}_Test_s5')\n",
    "\n",
    "\n",
    "np_test_img_path = os.path.join(np_test_root_path, noise + '.npy')\n",
    "np_train_img_path = os.path.join(np_train_root_path, noise + '.npy')\n",
    "train_positives_datasets = load_np_dataset(np_train_img_path, np_train_target_path, transform, None) \n",
    "train_positives_datasets = get_subclass_dataset(train_positives_datasets, args.one_class_idx)\n",
    "gn = torch.Generator().manual_seed(args.seed)\n",
    "train_positives_loader = DataLoader(train_positives_datasets, shuffle=True, generator=gn, batch_size=args.batch_size)\n",
    "\n",
    "imgs_out = []\n",
    "aug_imgs_out = []\n",
    "model = model.to(args.device)\n",
    "model.eval()\n",
    "\n",
    "iter = 0\n",
    "for (normal, p_data) in zip(train_loader, train_positives_loader):\n",
    "    imgs, labels = normal\n",
    "    p_imgs, p_label = p_data\n",
    "    assert torch.equal(torch.squeeze(labels), torch.squeeze(p_label)), f\"The labels of positives images do not match to noraml images, {torch.squeeze(labels)}, {torch.squeeze(p_label)}\"\n",
    "    imgs, labels = imgs.to(args.device), labels.to(args.device)\n",
    "    p_imgs = p_imgs.to(args.device)\n",
    "\n",
    "    # imgs.requires_grad = True\n",
    "    # p_imgs.requires_grad = True\n",
    "\n",
    "    # imgs_out = model.encode_image(imgs)\n",
    "    # p_imgs_out = model.encode_image(p_imgs)\n",
    "    # n_imgs_out = model.encode_image(n_imgs)\n",
    "\n",
    "    # imgs_out.append(model.encode_image(imgs))\n",
    "    # p_imgs_out.append(model.encode_image(p_imgs))\n",
    "    # n_imgs_out.append(model.encode_image(n_imgs))\n",
    "\n",
    "    # imgs_out = model(imgs)\n",
    "    # p_imgs_out = model(p_imgs)\n",
    "    # n_imgs_out = model(n_imgs)\n",
    "\n",
    "    imgs_out.append(get_all_feature_maps(model, imgs)['avgpool'].view(-1, 2048).cpu().detach().numpy()[0])\n",
    "    aug_imgs_out.append(get_all_feature_maps(model, p_imgs)['avgpool'].view(-1, 2048).cpu().detach().numpy()[0])\n",
    "    # if iter > 128:\n",
    "    break\n",
    "    # iter += 1\n",
    "\n",
    "import cv2\n",
    "import numpy as np\n",
    "from scipy.ndimage import sobel\n",
    "\n",
    "def gmsd(ref_image, dist_image):\n",
    "    \"\"\"\n",
    "    Compute the GMSD between two images.\n",
    "\n",
    "    Parameters:\n",
    "        ref_image (ndarray): The reference (original) image.\n",
    "        dist_image (ndarray): The distorted image to compare.\n",
    "\n",
    "    Returns:\n",
    "        gmsd_score (float): The GMSD score between the two images.\n",
    "    \"\"\"\n",
    "\n",
    "    # Convert images to grayscale if they are in color\n",
    "    if ref_image.ndim == 3:\n",
    "        ref_image = cv2.cvtColor(ref_image, cv2.COLOR_BGR2GRAY)\n",
    "    if dist_image.ndim == 3:\n",
    "        dist_image = cv2.cvtColor(dist_image, cv2.COLOR_BGR2GRAY)\n",
    "\n",
    "    # Normalize images to [0, 1] range\n",
    "    ref_image = ref_image.astype(np.float32) / 255.0\n",
    "    dist_image = dist_image.astype(np.float32) / 255.0\n",
    "\n",
    "    # Compute gradient magnitude using Sobel filter\n",
    "    def gradient_magnitude(img):\n",
    "        grad_x = sobel(img, axis=1, mode='reflect')\n",
    "        grad_y = sobel(img, axis=0, mode='reflect')\n",
    "        return np.sqrt(grad_x**2 + grad_y**2)\n",
    "\n",
    "    # Get gradient magnitude of both images\n",
    "    grad_ref = gradient_magnitude(ref_image)\n",
    "    grad_dist = gradient_magnitude(dist_image)\n",
    "\n",
    "    # Compute the gradient similarity map\n",
    "    epsilon = 1e-4  # Small constant to avoid division by zero\n",
    "    gms_map = (2 * grad_ref * grad_dist + epsilon) / (grad_ref**2 + grad_dist**2 + epsilon)\n",
    "\n",
    "    # Calculate GMSD as the standard deviation of the GMS map\n",
    "    gmsd_score = np.std(gms_map)\n",
    "    return gmsd_score\n",
    "\n",
    "\n"
   ]
  },
  {
   "cell_type": "code",
   "execution_count": 39,
   "metadata": {},
   "outputs": [
    {
     "data": {
      "text/plain": [
       "<matplotlib.image.AxesImage at 0x1b402a0a900>"
      ]
     },
     "execution_count": 39,
     "metadata": {},
     "output_type": "execute_result"
    },
    {
     "data": {
      "image/png": "[encoded data removed]",
      "text/plain": [
       "<Figure size 640x480 with 1 Axes>"
      ]
     },
     "metadata": {},
     "output_type": "display_data"
    }
   ],
   "source": [
    "plt.imshow(imgs[0].permute(1,2,0).cpu().detach().numpy())"
   ]
  },
  {
   "cell_type": "code",
   "execution_count": 40,
   "metadata": {},
   "outputs": [
    {
     "data": {
      "text/plain": [
       "<matplotlib.image.AxesImage at 0x1b4029c2e70>"
      ]
     },
     "execution_count": 40,
     "metadata": {},
     "output_type": "execute_result"
    },
    {
     "data": {
      "image/png": "[encoded data removed]",
      "text/plain": [
       "<Figure size 640x480 with 1 Axes>"
      ]
     },
     "metadata": {},
     "output_type": "display_data"
    }
   ],
   "source": [
    "plt.imshow(p_imgs[0].permute(1,2,0).cpu().detach().numpy())"
   ]
  },
  {
   "cell_type": "code",
   "execution_count": 41,
   "metadata": {},
   "outputs": [
    {
     "data": {
      "text/plain": [
       "0.006490353"
      ]
     },
     "execution_count": 41,
     "metadata": {},
     "output_type": "execute_result"
    }
   ],
   "source": [
    "gmsd(imgs[0].permute(1,2,0).cpu().detach().numpy(), p_imgs[0].permute(1,2,0).cpu().detach().numpy())"
   ]
  },
  {
   "cell_type": "code",
   "execution_count": 42,
   "metadata": {},
   "outputs": [
    {
     "data": {
      "text/plain": [
       "0.006234439"
      ]
     },
     "execution_count": 42,
     "metadata": {},
     "output_type": "execute_result"
    }
   ],
   "source": [
    "gmsd(imgs[0].permute(1,2,0).cpu().detach().numpy(), p_imgs[2].permute(1,2,0).cpu().detach().numpy())"
   ]
  },
  {
   "cell_type": "code",
   "execution_count": 43,
   "metadata": {},
   "outputs": [
    {
     "name": "stdout",
     "output_type": "stream",
     "text": [
      "SSIM between feature maps: 0.37018510251120545\n"
     ]
    }
   ],
   "source": [
    "from skimage.metrics import structural_similarity as ssim\n",
    "import numpy as np\n",
    "\n",
    "# Compute SSIM\n",
    "ssim_index, ssim_map = ssim((imgs[0].permute(1,2,0).cpu().detach().numpy()*255).astype('uint8'), (p_imgs[0].permute(1,2,0).cpu().detach().numpy()*255).astype('uint8'), full=True, channel_axis=2)\n",
    "print(\"SSIM between feature maps:\", ssim_index)"
   ]
  },
  {
   "cell_type": "code",
   "execution_count": 45,
   "metadata": {},
   "outputs": [
    {
     "name": "stdout",
     "output_type": "stream",
     "text": [
      "SSIM between feature maps: 0.3399806091134927\n"
     ]
    }
   ],
   "source": [
    "from skimage.metrics import structural_similarity as ssim\n",
    "import numpy as np\n",
    "\n",
    "# Compute SSIM\n",
    "ssim_index, ssim_map = ssim((imgs[0].permute(1,2,0).cpu().detach().numpy()*255).astype('uint8'), (imgs[2].permute(1,2,0).cpu().detach().numpy()*255).astype('uint8'), full=True, channel_axis=2)\n",
    "\n",
    "print(\"SSIM between feature maps:\", ssim_index)"
   ]
  },
  {
   "cell_type": "code",
   "execution_count": 46,
   "metadata": {},
   "outputs": [
    {
     "name": "stdout",
     "output_type": "stream",
     "text": [
      "Cosine Similarity: 0.8912575\n"
     ]
    }
   ],
   "source": [
    "from sklearn.metrics.pairwise import cosine_similarity\n",
    "import numpy as np\n",
    "\n",
    "# Calculate cosine similarity\n",
    "cosine_sim = cosine_similarity([imgs[0].permute(1,2,0).cpu().detach().numpy().flatten()], [p_imgs[0].permute(1,2,0).cpu().detach().numpy().flatten()])\n",
    "\n",
    "print(\"Cosine Similarity:\", cosine_sim[0][0])\n"
   ]
  },
  {
   "cell_type": "code",
   "execution_count": 48,
   "metadata": {},
   "outputs": [
    {
     "name": "stdout",
     "output_type": "stream",
     "text": [
      "Cosine Similarity: 0.8834989\n"
     ]
    }
   ],
   "source": [
    "from sklearn.metrics.pairwise import cosine_similarity\n",
    "import numpy as np\n",
    "\n",
    "# Calculate cosine similarity\n",
    "cosine_sim = cosine_similarity([imgs[0].permute(1,2,0).cpu().detach().numpy().flatten()], [imgs[2].permute(1,2,0).cpu().detach().numpy().flatten()])\n",
    "\n",
    "print(\"Cosine Similarity:\", cosine_sim[0][0])\n"
   ]
  },
  {
   "cell_type": "code",
   "execution_count": 19,
   "metadata": {},
   "outputs": [],
   "source": [
    "import cv2\n",
    "\n",
    "def orb_similarity(img1, img2):\n",
    "    # Initialize ORB detector\n",
    "    orb = cv2.ORB_create()\n",
    "    \n",
    "    # Find keypoints and descriptors\n",
    "    kp1, des1 = orb.detectAndCompute(img1, None)\n",
    "    kp2, des2 = orb.detectAndCompute(img2, None)\n",
    "    \n",
    "    # Create a BFMatcher object with Hamming distance and crossCheck\n",
    "    bf = cv2.BFMatcher(cv2.NORM_HAMMING, crossCheck=True)\n",
    "    \n",
    "    # Match descriptors\n",
    "    matches = bf.match(des1, des2)\n",
    "    \n",
    "    # Sort matches by distance\n",
    "    matches = sorted(matches, key=lambda x: x.distance)\n",
    "    \n",
    "    # Count the number of good matches\n",
    "    good_matches = [m for m in matches if m.distance < 50]\n",
    "    \n",
    "    # Similarity score based on the number of good matches\n",
    "    similarity_score = len(good_matches)\n",
    "    return similarity_score\n"
   ]
  },
  {
   "cell_type": "code",
   "execution_count": 49,
   "metadata": {},
   "outputs": [
    {
     "data": {
      "text/plain": [
       "43"
      ]
     },
     "execution_count": 49,
     "metadata": {},
     "output_type": "execute_result"
    }
   ],
   "source": [
    "orb_similarity((imgs[0].permute(1,2,0).cpu().detach().numpy()*255).astype('uint8'), (p_imgs[0].permute(1,2,0).cpu().detach().numpy()*255).astype('uint8'))"
   ]
  },
  {
   "cell_type": "code",
   "execution_count": 51,
   "metadata": {},
   "outputs": [
    {
     "ename": "error",
     "evalue": "OpenCV(4.10.0) D:\\a\\opencv-python\\opencv-python\\opencv\\modules\\core\\src\\batch_distance.cpp:275: error: (-215:Assertion failed) type == src2.type() && src1.cols == src2.cols && (type == CV_32F || type == CV_8U) in function 'cv::batchDistance'\n",
     "output_type": "error",
     "traceback": [
      "\u001b[1;31m---------------------------------------------------------------------------\u001b[0m",
      "\u001b[1;31merror\u001b[0m                                     Traceback (most recent call last)",
      "Cell \u001b[1;32mIn[51], line 1\u001b[0m\n\u001b[1;32m----> 1\u001b[0m \u001b[43morb_similarity\u001b[49m\u001b[43m(\u001b[49m\u001b[43m(\u001b[49m\u001b[43mimgs\u001b[49m\u001b[43m[\u001b[49m\u001b[38;5;241;43m0\u001b[39;49m\u001b[43m]\u001b[49m\u001b[38;5;241;43m.\u001b[39;49m\u001b[43mpermute\u001b[49m\u001b[43m(\u001b[49m\u001b[38;5;241;43m1\u001b[39;49m\u001b[43m,\u001b[49m\u001b[38;5;241;43m2\u001b[39;49m\u001b[43m,\u001b[49m\u001b[38;5;241;43m0\u001b[39;49m\u001b[43m)\u001b[49m\u001b[38;5;241;43m.\u001b[39;49m\u001b[43mcpu\u001b[49m\u001b[43m(\u001b[49m\u001b[43m)\u001b[49m\u001b[38;5;241;43m.\u001b[39;49m\u001b[43mdetach\u001b[49m\u001b[43m(\u001b[49m\u001b[43m)\u001b[49m\u001b[38;5;241;43m.\u001b[39;49m\u001b[43mnumpy\u001b[49m\u001b[43m(\u001b[49m\u001b[43m)\u001b[49m\u001b[38;5;241;43m*\u001b[39;49m\u001b[38;5;241;43m255\u001b[39;49m\u001b[43m)\u001b[49m\u001b[38;5;241;43m.\u001b[39;49m\u001b[43mastype\u001b[49m\u001b[43m(\u001b[49m\u001b[38;5;124;43m'\u001b[39;49m\u001b[38;5;124;43muint8\u001b[39;49m\u001b[38;5;124;43m'\u001b[39;49m\u001b[43m)\u001b[49m\u001b[43m,\u001b[49m\u001b[43m \u001b[49m\u001b[43m(\u001b[49m\u001b[43mimgs\u001b[49m\u001b[43m[\u001b[49m\u001b[38;5;241;43m2\u001b[39;49m\u001b[43m]\u001b[49m\u001b[38;5;241;43m.\u001b[39;49m\u001b[43mpermute\u001b[49m\u001b[43m(\u001b[49m\u001b[38;5;241;43m1\u001b[39;49m\u001b[43m,\u001b[49m\u001b[38;5;241;43m2\u001b[39;49m\u001b[43m,\u001b[49m\u001b[38;5;241;43m0\u001b[39;49m\u001b[43m)\u001b[49m\u001b[38;5;241;43m.\u001b[39;49m\u001b[43mcpu\u001b[49m\u001b[43m(\u001b[49m\u001b[43m)\u001b[49m\u001b[38;5;241;43m.\u001b[39;49m\u001b[43mdetach\u001b[49m\u001b[43m(\u001b[49m\u001b[43m)\u001b[49m\u001b[38;5;241;43m.\u001b[39;49m\u001b[43mnumpy\u001b[49m\u001b[43m(\u001b[49m\u001b[43m)\u001b[49m\u001b[38;5;241;43m*\u001b[39;49m\u001b[38;5;241;43m255\u001b[39;49m\u001b[43m)\u001b[49m\u001b[38;5;241;43m.\u001b[39;49m\u001b[43mastype\u001b[49m\u001b[43m(\u001b[49m\u001b[38;5;124;43m'\u001b[39;49m\u001b[38;5;124;43muint8\u001b[39;49m\u001b[38;5;124;43m'\u001b[39;49m\u001b[43m)\u001b[49m\u001b[43m)\u001b[49m\n",
      "Cell \u001b[1;32mIn[19], line 15\u001b[0m, in \u001b[0;36morb_similarity\u001b[1;34m(img1, img2)\u001b[0m\n\u001b[0;32m     12\u001b[0m bf \u001b[38;5;241m=\u001b[39m cv2\u001b[38;5;241m.\u001b[39mBFMatcher(cv2\u001b[38;5;241m.\u001b[39mNORM_HAMMING, crossCheck\u001b[38;5;241m=\u001b[39m\u001b[38;5;28;01mTrue\u001b[39;00m)\n\u001b[0;32m     14\u001b[0m \u001b[38;5;66;03m# Match descriptors\u001b[39;00m\n\u001b[1;32m---> 15\u001b[0m matches \u001b[38;5;241m=\u001b[39m \u001b[43mbf\u001b[49m\u001b[38;5;241;43m.\u001b[39;49m\u001b[43mmatch\u001b[49m\u001b[43m(\u001b[49m\u001b[43mdes1\u001b[49m\u001b[43m,\u001b[49m\u001b[43m \u001b[49m\u001b[43mdes2\u001b[49m\u001b[43m)\u001b[49m\n\u001b[0;32m     17\u001b[0m \u001b[38;5;66;03m# Sort matches by distance\u001b[39;00m\n\u001b[0;32m     18\u001b[0m matches \u001b[38;5;241m=\u001b[39m \u001b[38;5;28msorted\u001b[39m(matches, key\u001b[38;5;241m=\u001b[39m\u001b[38;5;28;01mlambda\u001b[39;00m x: x\u001b[38;5;241m.\u001b[39mdistance)\n",
      "\u001b[1;31merror\u001b[0m: OpenCV(4.10.0) D:\\a\\opencv-python\\opencv-python\\opencv\\modules\\core\\src\\batch_distance.cpp:275: error: (-215:Assertion failed) type == src2.type() && src1.cols == src2.cols && (type == CV_32F || type == CV_8U) in function 'cv::batchDistance'\n"
     ]
    }
   ],
   "source": [
    "orb_similarity((imgs[0].permute(1,2,0).cpu().detach().numpy()*255).astype('uint8'), (imgs[2].permute(1,2,0).cpu().detach().numpy()*255).astype('uint8'))"
   ]
  },
  {
   "cell_type": "code",
   "execution_count": null,
   "metadata": {},
   "outputs": [],
   "source": []
  }
 ],
 "metadata": {
  "kernelspec": {
   "display_name": "TORCH",
   "language": "python",
   "name": "python3"
  },
  "language_info": {
   "codemirror_mode": {
    "name": "ipython",
    "version": 3
   },
   "file_extension": ".py",
   "mimetype": "text/x-python",
   "name": "python",
   "nbconvert_exporter": "python",
   "pygments_lexer": "ipython3",
   "version": "3.12.7"
  }
 },
 "nbformat": 4,
 "nbformat_minor": 2
}
